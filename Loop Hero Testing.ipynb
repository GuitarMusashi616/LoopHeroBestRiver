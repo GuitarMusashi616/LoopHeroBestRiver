{
 "cells": [
  {
   "cell_type": "code",
   "execution_count": 132,
   "metadata": {},
   "outputs": [],
   "source": [
    "from grid_utils import *\n",
    "from main import *\n",
    "from node import *\n",
    "from test import *\n",
    "from string_scorer import *\n",
    "from random import choice\n",
    "import re\n",
    "from time import sleep\n",
    "from IPython.display import clear_output\n",
    "import numpy as np"
   ]
  },
  {
   "cell_type": "code",
   "execution_count": 2,
   "metadata": {},
   "outputs": [],
   "source": [
    "# best_neighbor\n",
    "# for each empty tile\n",
    "# see new score if that tile got a char\n",
    "# check all options and choose the best\n"
   ]
  },
  {
   "cell_type": "code",
   "execution_count": 3,
   "metadata": {},
   "outputs": [
    {
     "name": "stdout",
     "output_type": "stream",
     "text": [
      "- - - - - - - - - - - - - - - - - - - - - \n",
      "- - - - - - - - - - - - - - - - - - - - - \n",
      "- - - - - - - - - - - - - - - - - - - - - \n",
      "- - - - - - - - - - - - - - - - - - - - - \n",
      "- - - - - - - - - - - - - - - - - - - - - \n",
      "- - - - - - - - - - - - - - - - - - - - - \n",
      "- - - - - - - - - - - - - - - - - - - - - \n",
      "- - - - - - - - - - - - - - - - - - - - - \n",
      "- - - - - - - - - - - - - - - - - - - - - \n",
      "- - - - - - - - - - - - - - - - - - - - - \n",
      "- - - - - - - - - - - - - - - - - - - - - \n",
      "- - - - - - - - - - - - - - - - - - - - - \n",
      "\n"
     ]
    }
   ],
   "source": [
    "rep(empty_grid(12,21))"
   ]
  },
  {
   "cell_type": "code",
   "execution_count": 4,
   "metadata": {},
   "outputs": [
    {
     "name": "stdout",
     "output_type": "stream",
     "text": [
      "% % % | | - - - - - - - - - - - - - - - - \n",
      "% | % % | - - - - - - - - - - - - - - - - \n",
      "% % | % % - - O O O O O O - - - - - - - - \n",
      "| % % | % - O O - - - - O O - - - - - - - \n",
      "% | % % | - O - - - - - - O O - - - - - - \n",
      "% % | % % - O - - - - - - - O O - - - - - \n",
      "| % % | % - O O O O O - - - - O - - - - - \n",
      "| | % | % - - - - - O O O O - O O - - - - \n",
      "| % % | % - - - - - - - - O - - O - - - - \n",
      "% % | % % - - - - - - - - O O O O - - - - \n",
      "% | % % | - - - - - - - - - - - - - - - - \n",
      "% % % | | - - - - - - - - - - - - - - - - \n",
      "\n"
     ]
    },
    {
     "data": {
      "text/plain": [
       "234"
      ]
     },
     "execution_count": 4,
     "metadata": {},
     "output_type": "execute_result"
    }
   ],
   "source": [
    "grid = best_river_fixture()\n",
    "rep(grid)\n",
    "score(grid)"
   ]
  },
  {
   "cell_type": "code",
   "execution_count": 5,
   "metadata": {},
   "outputs": [],
   "source": [
    "# add x's to mark places where you cant put anything"
   ]
  },
  {
   "cell_type": "code",
   "execution_count": 6,
   "metadata": {},
   "outputs": [
    {
     "name": "stdout",
     "output_type": "stream",
     "text": [
      "% % % | | - - - - - - - - - - - - - - - - \n",
      "% | % % | - - x x x x x x - - - - - - - - \n",
      "% % | % % - x O O O O O O x - - - - - - - \n",
      "| % % | % x O O x x x x O O x - - - - - - \n",
      "% | % % | x O x - - - - x O O x - - - - - \n",
      "% % | % % x O x x x x - - x O O x - - - - \n",
      "| % % | % x O O O O O x x x x O x - - - - \n",
      "| | % | % - x x x x O O O O x O O x - - - \n",
      "| % % | % - - - - - x x x O x x O x - - - \n",
      "% % | % % - - - - - - - x O O O O x - - - \n",
      "% | % % | - - - - - - - - x x x x - - - - \n",
      "% % % | | - - - - - - - - - - - - - - - - \n",
      "\n"
     ]
    }
   ],
   "source": [
    "mark_restricted_areas(grid)\n",
    "rep(grid)\n",
    "# unmark_restricted_areas(grid)\n",
    "# rep(grid)"
   ]
  },
  {
   "cell_type": "code",
   "execution_count": 8,
   "metadata": {},
   "outputs": [],
   "source": [
    "# The real question is where to place the river because obviously the forests will be placed right next to it"
   ]
  },
  {
   "cell_type": "code",
   "execution_count": 9,
   "metadata": {},
   "outputs": [],
   "source": [
    "# next try remaining options, try to make improvements\n",
    "# rivers make a difference to the up, down, left, right"
   ]
  },
  {
   "cell_type": "code",
   "execution_count": 10,
   "metadata": {},
   "outputs": [],
   "source": [
    "# pick random start\n",
    "# pick next river spot that has highest total grid score (assume forests on sides)\n",
    "# (maybe make more efficient version LATER)\n",
    "# repeat until grid is full"
   ]
  },
  {
   "cell_type": "code",
   "execution_count": 11,
   "metadata": {
    "scrolled": false
   },
   "outputs": [
    {
     "name": "stdout",
     "output_type": "stream",
     "text": [
      "12 \n",
      "16 u\n",
      "20 r\n",
      "24 ur\n",
      "28 ru\n",
      "32 uru\n",
      "36 ruu\n",
      "40 uruu\n",
      "44 ruuu\n",
      "48 uruuu\n",
      "52 ruuuu\n",
      "56 uruuur\n",
      "60 ruuuur\n",
      "64 uruuurr\n",
      "68 ruuuurr\n",
      "72 uruuurrd\n",
      "76 ruuuurrd\n",
      "80 uruuurrdd\n",
      "84 ruuuurrdd\n",
      "88 uruuurrddd\n"
     ]
    },
    {
     "ename": "KeyboardInterrupt",
     "evalue": "",
     "output_type": "error",
     "traceback": [
      "\u001b[1;31m---------------------------------------------------------------------------\u001b[0m",
      "\u001b[1;31mKeyboardInterrupt\u001b[0m                         Traceback (most recent call last)",
      "\u001b[1;32m<ipython-input-11-3d5868765b85>\u001b[0m in \u001b[0;36m<module>\u001b[1;34m\u001b[0m\n\u001b[0;32m      2\u001b[0m \u001b[1;31m# mark_restricted_areas(grid)\u001b[0m\u001b[1;33m\u001b[0m\u001b[1;33m\u001b[0m\u001b[1;33m\u001b[0m\u001b[0m\n\u001b[0;32m      3\u001b[0m \u001b[0mss\u001b[0m \u001b[1;33m=\u001b[0m \u001b[0mStringScorer\u001b[0m\u001b[1;33m(\u001b[0m\u001b[0mgrid\u001b[0m\u001b[1;33m,\u001b[0m \u001b[1;36m5\u001b[0m\u001b[1;33m,\u001b[0m \u001b[1;36m0\u001b[0m\u001b[1;33m)\u001b[0m\u001b[1;33m\u001b[0m\u001b[1;33m\u001b[0m\u001b[0m\n\u001b[1;32m----> 4\u001b[1;33m \u001b[0mbfs\u001b[0m\u001b[1;33m(\u001b[0m\u001b[0mss\u001b[0m\u001b[1;33m)\u001b[0m\u001b[1;33m\u001b[0m\u001b[1;33m\u001b[0m\u001b[0m\n\u001b[0m",
      "\u001b[1;32m~\\PycharmProjects\\LoopHero\\string_scorer.py\u001b[0m in \u001b[0;36mbfs\u001b[1;34m(ss)\u001b[0m\n\u001b[0;32m    101\u001b[0m             \u001b[0mnew_string\u001b[0m \u001b[1;33m=\u001b[0m \u001b[0mstring\u001b[0m \u001b[1;33m+\u001b[0m \u001b[0mch\u001b[0m\u001b[1;33m\u001b[0m\u001b[1;33m\u001b[0m\u001b[0m\n\u001b[0;32m    102\u001b[0m             \u001b[1;32mif\u001b[0m \u001b[0mnew_string\u001b[0m \u001b[1;32mnot\u001b[0m \u001b[1;32min\u001b[0m \u001b[0mexplored\u001b[0m \u001b[1;32mand\u001b[0m \u001b[0mnew_string\u001b[0m \u001b[1;32mnot\u001b[0m \u001b[1;32min\u001b[0m \u001b[0mfrontier\u001b[0m\u001b[1;33m:\u001b[0m\u001b[1;33m\u001b[0m\u001b[1;33m\u001b[0m\u001b[0m\n\u001b[1;32m--> 103\u001b[1;33m                 \u001b[0mfrontier\u001b[0m\u001b[1;33m.\u001b[0m\u001b[0mappend\u001b[0m\u001b[1;33m(\u001b[0m\u001b[0mnew_string\u001b[0m\u001b[1;33m)\u001b[0m\u001b[1;33m\u001b[0m\u001b[1;33m\u001b[0m\u001b[0m\n\u001b[0m\u001b[0;32m    104\u001b[0m \u001b[1;33m\u001b[0m\u001b[0m\n\u001b[0;32m    105\u001b[0m \u001b[1;33m\u001b[0m\u001b[0m\n",
      "\u001b[1;31mKeyboardInterrupt\u001b[0m: "
     ]
    }
   ],
   "source": [
    "grid = empty_grid(12,5)\n",
    "# mark_restricted_areas(grid)\n",
    "ss = StringScorer(grid, 5, 0)\n",
    "bfs(ss)"
   ]
  },
  {
   "cell_type": "code",
   "execution_count": 12,
   "metadata": {},
   "outputs": [],
   "source": [
    "class DFS:\n",
    "    score = 0\n",
    "    string = ''"
   ]
  },
  {
   "cell_type": "code",
   "execution_count": 13,
   "metadata": {},
   "outputs": [],
   "source": [
    "def dfs(ss, string=''):\n",
    "    score, options = ss.get_child(string)\n",
    "    \n",
    "    if score > 1000:\n",
    "        return score\n",
    "\n",
    "    if score > DFS.score:\n",
    "        DFS.score = score\n",
    "        DFS.string = string\n",
    "        print(score, string)\n",
    "\n",
    "    for ch in options:\n",
    "        dfs(ss, string+ch) "
   ]
  },
  {
   "cell_type": "code",
   "execution_count": 14,
   "metadata": {
    "scrolled": true
   },
   "outputs": [
    {
     "name": "stdout",
     "output_type": "stream",
     "text": [
      "12 \n",
      "16 u\n",
      "20 uu\n",
      "24 uuu\n",
      "28 uuuu\n",
      "32 uuuuur\n",
      "36 uuuuurr\n",
      "40 uuuuurrr\n",
      "44 uuuuurrrrd\n",
      "48 uuuuurrrrdllldrrrdllldrrrdllldldrrurrdldllldrrrrdldll\n",
      "52 uuuuurrrrdllldrrrdllldrrrdllldldrrurrdldllldrrdrru\n",
      "56 uuuuurrrrdllldrrrdllldrrrdllldldrrurrdldllldrdrrur\n",
      "60 uuuuurrrrdllldrrrdllldrrrdllldldrrurrdldllldrdrrru\n",
      "64 uuuuurrrrdllldrrrdllldrrrdllldldrrurrdldllldrddrruru\n",
      "68 uuuuurrrrdllldrrrdllldrrrdllldldrrurrdldlllddrdrruru\n",
      "72 uuuuurrrrdllldrrrdllldrrrdllldldrrurrdldlldldrdrruru\n",
      "76 uuuuurrrrdllldrrrdllldrrrdllldldrrurrdldlldlddrrurru\n",
      "80 uuuuurrrrdllldrrrdllldrrrdllldldrrurrdldldlldrdrruru\n"
     ]
    },
    {
     "ename": "KeyboardInterrupt",
     "evalue": "",
     "output_type": "error",
     "traceback": [
      "\u001b[1;31m---------------------------------------------------------------------------\u001b[0m",
      "\u001b[1;31mKeyboardInterrupt\u001b[0m                         Traceback (most recent call last)",
      "\u001b[1;32m<ipython-input-14-259eef49d78a>\u001b[0m in \u001b[0;36m<module>\u001b[1;34m\u001b[0m\n\u001b[0;32m      5\u001b[0m \u001b[1;31m# mark_restricted_areas(grid)\u001b[0m\u001b[1;33m\u001b[0m\u001b[1;33m\u001b[0m\u001b[1;33m\u001b[0m\u001b[0m\n\u001b[0;32m      6\u001b[0m \u001b[0mss\u001b[0m \u001b[1;33m=\u001b[0m \u001b[0mStringScorer\u001b[0m\u001b[1;33m(\u001b[0m\u001b[0mgrid\u001b[0m\u001b[1;33m,\u001b[0m \u001b[1;36m5\u001b[0m\u001b[1;33m,\u001b[0m \u001b[1;36m0\u001b[0m\u001b[1;33m)\u001b[0m\u001b[1;33m\u001b[0m\u001b[1;33m\u001b[0m\u001b[0m\n\u001b[1;32m----> 7\u001b[1;33m \u001b[0mdfs\u001b[0m\u001b[1;33m(\u001b[0m\u001b[0mss\u001b[0m\u001b[1;33m,\u001b[0m\u001b[1;34m''\u001b[0m\u001b[1;33m)\u001b[0m\u001b[1;33m\u001b[0m\u001b[1;33m\u001b[0m\u001b[0m\n\u001b[0m",
      "\u001b[1;32m<ipython-input-13-fac15a6e51c1>\u001b[0m in \u001b[0;36mdfs\u001b[1;34m(ss, string)\u001b[0m\n\u001b[0;32m     11\u001b[0m \u001b[1;33m\u001b[0m\u001b[0m\n\u001b[0;32m     12\u001b[0m     \u001b[1;32mfor\u001b[0m \u001b[0mch\u001b[0m \u001b[1;32min\u001b[0m \u001b[0moptions\u001b[0m\u001b[1;33m:\u001b[0m\u001b[1;33m\u001b[0m\u001b[1;33m\u001b[0m\u001b[0m\n\u001b[1;32m---> 13\u001b[1;33m         \u001b[0mdfs\u001b[0m\u001b[1;33m(\u001b[0m\u001b[0mss\u001b[0m\u001b[1;33m,\u001b[0m \u001b[0mstring\u001b[0m\u001b[1;33m+\u001b[0m\u001b[0mch\u001b[0m\u001b[1;33m)\u001b[0m\u001b[1;33m\u001b[0m\u001b[1;33m\u001b[0m\u001b[0m\n\u001b[0m",
      "\u001b[1;32m<ipython-input-13-fac15a6e51c1>\u001b[0m in \u001b[0;36mdfs\u001b[1;34m(ss, string)\u001b[0m\n\u001b[0;32m     11\u001b[0m \u001b[1;33m\u001b[0m\u001b[0m\n\u001b[0;32m     12\u001b[0m     \u001b[1;32mfor\u001b[0m \u001b[0mch\u001b[0m \u001b[1;32min\u001b[0m \u001b[0moptions\u001b[0m\u001b[1;33m:\u001b[0m\u001b[1;33m\u001b[0m\u001b[1;33m\u001b[0m\u001b[0m\n\u001b[1;32m---> 13\u001b[1;33m         \u001b[0mdfs\u001b[0m\u001b[1;33m(\u001b[0m\u001b[0mss\u001b[0m\u001b[1;33m,\u001b[0m \u001b[0mstring\u001b[0m\u001b[1;33m+\u001b[0m\u001b[0mch\u001b[0m\u001b[1;33m)\u001b[0m\u001b[1;33m\u001b[0m\u001b[1;33m\u001b[0m\u001b[0m\n\u001b[0m",
      "\u001b[1;32m<ipython-input-13-fac15a6e51c1>\u001b[0m in \u001b[0;36mdfs\u001b[1;34m(ss, string)\u001b[0m\n\u001b[0;32m     11\u001b[0m \u001b[1;33m\u001b[0m\u001b[0m\n\u001b[0;32m     12\u001b[0m     \u001b[1;32mfor\u001b[0m \u001b[0mch\u001b[0m \u001b[1;32min\u001b[0m \u001b[0moptions\u001b[0m\u001b[1;33m:\u001b[0m\u001b[1;33m\u001b[0m\u001b[1;33m\u001b[0m\u001b[0m\n\u001b[1;32m---> 13\u001b[1;33m         \u001b[0mdfs\u001b[0m\u001b[1;33m(\u001b[0m\u001b[0mss\u001b[0m\u001b[1;33m,\u001b[0m \u001b[0mstring\u001b[0m\u001b[1;33m+\u001b[0m\u001b[0mch\u001b[0m\u001b[1;33m)\u001b[0m\u001b[1;33m\u001b[0m\u001b[1;33m\u001b[0m\u001b[0m\n\u001b[0m",
      "\u001b[1;32m<ipython-input-13-fac15a6e51c1>\u001b[0m in \u001b[0;36mdfs\u001b[1;34m(ss, string)\u001b[0m\n\u001b[0;32m     11\u001b[0m \u001b[1;33m\u001b[0m\u001b[0m\n\u001b[0;32m     12\u001b[0m     \u001b[1;32mfor\u001b[0m \u001b[0mch\u001b[0m \u001b[1;32min\u001b[0m \u001b[0moptions\u001b[0m\u001b[1;33m:\u001b[0m\u001b[1;33m\u001b[0m\u001b[1;33m\u001b[0m\u001b[0m\n\u001b[1;32m---> 13\u001b[1;33m         \u001b[0mdfs\u001b[0m\u001b[1;33m(\u001b[0m\u001b[0mss\u001b[0m\u001b[1;33m,\u001b[0m \u001b[0mstring\u001b[0m\u001b[1;33m+\u001b[0m\u001b[0mch\u001b[0m\u001b[1;33m)\u001b[0m\u001b[1;33m\u001b[0m\u001b[1;33m\u001b[0m\u001b[0m\n\u001b[0m",
      "\u001b[1;32m<ipython-input-13-fac15a6e51c1>\u001b[0m in \u001b[0;36mdfs\u001b[1;34m(ss, string)\u001b[0m\n\u001b[0;32m     11\u001b[0m \u001b[1;33m\u001b[0m\u001b[0m\n\u001b[0;32m     12\u001b[0m     \u001b[1;32mfor\u001b[0m \u001b[0mch\u001b[0m \u001b[1;32min\u001b[0m \u001b[0moptions\u001b[0m\u001b[1;33m:\u001b[0m\u001b[1;33m\u001b[0m\u001b[1;33m\u001b[0m\u001b[0m\n\u001b[1;32m---> 13\u001b[1;33m         \u001b[0mdfs\u001b[0m\u001b[1;33m(\u001b[0m\u001b[0mss\u001b[0m\u001b[1;33m,\u001b[0m \u001b[0mstring\u001b[0m\u001b[1;33m+\u001b[0m\u001b[0mch\u001b[0m\u001b[1;33m)\u001b[0m\u001b[1;33m\u001b[0m\u001b[1;33m\u001b[0m\u001b[0m\n\u001b[0m",
      "\u001b[1;32m<ipython-input-13-fac15a6e51c1>\u001b[0m in \u001b[0;36mdfs\u001b[1;34m(ss, string)\u001b[0m\n\u001b[0;32m     11\u001b[0m \u001b[1;33m\u001b[0m\u001b[0m\n\u001b[0;32m     12\u001b[0m     \u001b[1;32mfor\u001b[0m \u001b[0mch\u001b[0m \u001b[1;32min\u001b[0m \u001b[0moptions\u001b[0m\u001b[1;33m:\u001b[0m\u001b[1;33m\u001b[0m\u001b[1;33m\u001b[0m\u001b[0m\n\u001b[1;32m---> 13\u001b[1;33m         \u001b[0mdfs\u001b[0m\u001b[1;33m(\u001b[0m\u001b[0mss\u001b[0m\u001b[1;33m,\u001b[0m \u001b[0mstring\u001b[0m\u001b[1;33m+\u001b[0m\u001b[0mch\u001b[0m\u001b[1;33m)\u001b[0m\u001b[1;33m\u001b[0m\u001b[1;33m\u001b[0m\u001b[0m\n\u001b[0m",
      "\u001b[1;32m<ipython-input-13-fac15a6e51c1>\u001b[0m in \u001b[0;36mdfs\u001b[1;34m(ss, string)\u001b[0m\n\u001b[0;32m     11\u001b[0m \u001b[1;33m\u001b[0m\u001b[0m\n\u001b[0;32m     12\u001b[0m     \u001b[1;32mfor\u001b[0m \u001b[0mch\u001b[0m \u001b[1;32min\u001b[0m \u001b[0moptions\u001b[0m\u001b[1;33m:\u001b[0m\u001b[1;33m\u001b[0m\u001b[1;33m\u001b[0m\u001b[0m\n\u001b[1;32m---> 13\u001b[1;33m         \u001b[0mdfs\u001b[0m\u001b[1;33m(\u001b[0m\u001b[0mss\u001b[0m\u001b[1;33m,\u001b[0m \u001b[0mstring\u001b[0m\u001b[1;33m+\u001b[0m\u001b[0mch\u001b[0m\u001b[1;33m)\u001b[0m\u001b[1;33m\u001b[0m\u001b[1;33m\u001b[0m\u001b[0m\n\u001b[0m",
      "\u001b[1;32m<ipython-input-13-fac15a6e51c1>\u001b[0m in \u001b[0;36mdfs\u001b[1;34m(ss, string)\u001b[0m\n\u001b[0;32m     11\u001b[0m \u001b[1;33m\u001b[0m\u001b[0m\n\u001b[0;32m     12\u001b[0m     \u001b[1;32mfor\u001b[0m \u001b[0mch\u001b[0m \u001b[1;32min\u001b[0m \u001b[0moptions\u001b[0m\u001b[1;33m:\u001b[0m\u001b[1;33m\u001b[0m\u001b[1;33m\u001b[0m\u001b[0m\n\u001b[1;32m---> 13\u001b[1;33m         \u001b[0mdfs\u001b[0m\u001b[1;33m(\u001b[0m\u001b[0mss\u001b[0m\u001b[1;33m,\u001b[0m \u001b[0mstring\u001b[0m\u001b[1;33m+\u001b[0m\u001b[0mch\u001b[0m\u001b[1;33m)\u001b[0m\u001b[1;33m\u001b[0m\u001b[1;33m\u001b[0m\u001b[0m\n\u001b[0m",
      "\u001b[1;32m<ipython-input-13-fac15a6e51c1>\u001b[0m in \u001b[0;36mdfs\u001b[1;34m(ss, string)\u001b[0m\n\u001b[0;32m     11\u001b[0m \u001b[1;33m\u001b[0m\u001b[0m\n\u001b[0;32m     12\u001b[0m     \u001b[1;32mfor\u001b[0m \u001b[0mch\u001b[0m \u001b[1;32min\u001b[0m \u001b[0moptions\u001b[0m\u001b[1;33m:\u001b[0m\u001b[1;33m\u001b[0m\u001b[1;33m\u001b[0m\u001b[0m\n\u001b[1;32m---> 13\u001b[1;33m         \u001b[0mdfs\u001b[0m\u001b[1;33m(\u001b[0m\u001b[0mss\u001b[0m\u001b[1;33m,\u001b[0m \u001b[0mstring\u001b[0m\u001b[1;33m+\u001b[0m\u001b[0mch\u001b[0m\u001b[1;33m)\u001b[0m\u001b[1;33m\u001b[0m\u001b[1;33m\u001b[0m\u001b[0m\n\u001b[0m",
      "\u001b[1;32m<ipython-input-13-fac15a6e51c1>\u001b[0m in \u001b[0;36mdfs\u001b[1;34m(ss, string)\u001b[0m\n\u001b[0;32m     11\u001b[0m \u001b[1;33m\u001b[0m\u001b[0m\n\u001b[0;32m     12\u001b[0m     \u001b[1;32mfor\u001b[0m \u001b[0mch\u001b[0m \u001b[1;32min\u001b[0m \u001b[0moptions\u001b[0m\u001b[1;33m:\u001b[0m\u001b[1;33m\u001b[0m\u001b[1;33m\u001b[0m\u001b[0m\n\u001b[1;32m---> 13\u001b[1;33m         \u001b[0mdfs\u001b[0m\u001b[1;33m(\u001b[0m\u001b[0mss\u001b[0m\u001b[1;33m,\u001b[0m \u001b[0mstring\u001b[0m\u001b[1;33m+\u001b[0m\u001b[0mch\u001b[0m\u001b[1;33m)\u001b[0m\u001b[1;33m\u001b[0m\u001b[1;33m\u001b[0m\u001b[0m\n\u001b[0m",
      "\u001b[1;32m<ipython-input-13-fac15a6e51c1>\u001b[0m in \u001b[0;36mdfs\u001b[1;34m(ss, string)\u001b[0m\n\u001b[0;32m     11\u001b[0m \u001b[1;33m\u001b[0m\u001b[0m\n\u001b[0;32m     12\u001b[0m     \u001b[1;32mfor\u001b[0m \u001b[0mch\u001b[0m \u001b[1;32min\u001b[0m \u001b[0moptions\u001b[0m\u001b[1;33m:\u001b[0m\u001b[1;33m\u001b[0m\u001b[1;33m\u001b[0m\u001b[0m\n\u001b[1;32m---> 13\u001b[1;33m         \u001b[0mdfs\u001b[0m\u001b[1;33m(\u001b[0m\u001b[0mss\u001b[0m\u001b[1;33m,\u001b[0m \u001b[0mstring\u001b[0m\u001b[1;33m+\u001b[0m\u001b[0mch\u001b[0m\u001b[1;33m)\u001b[0m\u001b[1;33m\u001b[0m\u001b[1;33m\u001b[0m\u001b[0m\n\u001b[0m",
      "\u001b[1;32m<ipython-input-13-fac15a6e51c1>\u001b[0m in \u001b[0;36mdfs\u001b[1;34m(ss, string)\u001b[0m\n\u001b[0;32m     11\u001b[0m \u001b[1;33m\u001b[0m\u001b[0m\n\u001b[0;32m     12\u001b[0m     \u001b[1;32mfor\u001b[0m \u001b[0mch\u001b[0m \u001b[1;32min\u001b[0m \u001b[0moptions\u001b[0m\u001b[1;33m:\u001b[0m\u001b[1;33m\u001b[0m\u001b[1;33m\u001b[0m\u001b[0m\n\u001b[1;32m---> 13\u001b[1;33m         \u001b[0mdfs\u001b[0m\u001b[1;33m(\u001b[0m\u001b[0mss\u001b[0m\u001b[1;33m,\u001b[0m \u001b[0mstring\u001b[0m\u001b[1;33m+\u001b[0m\u001b[0mch\u001b[0m\u001b[1;33m)\u001b[0m\u001b[1;33m\u001b[0m\u001b[1;33m\u001b[0m\u001b[0m\n\u001b[0m",
      "\u001b[1;32m<ipython-input-13-fac15a6e51c1>\u001b[0m in \u001b[0;36mdfs\u001b[1;34m(ss, string)\u001b[0m\n\u001b[0;32m     11\u001b[0m \u001b[1;33m\u001b[0m\u001b[0m\n\u001b[0;32m     12\u001b[0m     \u001b[1;32mfor\u001b[0m \u001b[0mch\u001b[0m \u001b[1;32min\u001b[0m \u001b[0moptions\u001b[0m\u001b[1;33m:\u001b[0m\u001b[1;33m\u001b[0m\u001b[1;33m\u001b[0m\u001b[0m\n\u001b[1;32m---> 13\u001b[1;33m         \u001b[0mdfs\u001b[0m\u001b[1;33m(\u001b[0m\u001b[0mss\u001b[0m\u001b[1;33m,\u001b[0m \u001b[0mstring\u001b[0m\u001b[1;33m+\u001b[0m\u001b[0mch\u001b[0m\u001b[1;33m)\u001b[0m\u001b[1;33m\u001b[0m\u001b[1;33m\u001b[0m\u001b[0m\n\u001b[0m",
      "\u001b[1;32m<ipython-input-13-fac15a6e51c1>\u001b[0m in \u001b[0;36mdfs\u001b[1;34m(ss, string)\u001b[0m\n\u001b[0;32m     11\u001b[0m \u001b[1;33m\u001b[0m\u001b[0m\n\u001b[0;32m     12\u001b[0m     \u001b[1;32mfor\u001b[0m \u001b[0mch\u001b[0m \u001b[1;32min\u001b[0m \u001b[0moptions\u001b[0m\u001b[1;33m:\u001b[0m\u001b[1;33m\u001b[0m\u001b[1;33m\u001b[0m\u001b[0m\n\u001b[1;32m---> 13\u001b[1;33m         \u001b[0mdfs\u001b[0m\u001b[1;33m(\u001b[0m\u001b[0mss\u001b[0m\u001b[1;33m,\u001b[0m \u001b[0mstring\u001b[0m\u001b[1;33m+\u001b[0m\u001b[0mch\u001b[0m\u001b[1;33m)\u001b[0m\u001b[1;33m\u001b[0m\u001b[1;33m\u001b[0m\u001b[0m\n\u001b[0m",
      "\u001b[1;32m<ipython-input-13-fac15a6e51c1>\u001b[0m in \u001b[0;36mdfs\u001b[1;34m(ss, string)\u001b[0m\n\u001b[0;32m     11\u001b[0m \u001b[1;33m\u001b[0m\u001b[0m\n\u001b[0;32m     12\u001b[0m     \u001b[1;32mfor\u001b[0m \u001b[0mch\u001b[0m \u001b[1;32min\u001b[0m \u001b[0moptions\u001b[0m\u001b[1;33m:\u001b[0m\u001b[1;33m\u001b[0m\u001b[1;33m\u001b[0m\u001b[0m\n\u001b[1;32m---> 13\u001b[1;33m         \u001b[0mdfs\u001b[0m\u001b[1;33m(\u001b[0m\u001b[0mss\u001b[0m\u001b[1;33m,\u001b[0m \u001b[0mstring\u001b[0m\u001b[1;33m+\u001b[0m\u001b[0mch\u001b[0m\u001b[1;33m)\u001b[0m\u001b[1;33m\u001b[0m\u001b[1;33m\u001b[0m\u001b[0m\n\u001b[0m",
      "\u001b[1;32m<ipython-input-13-fac15a6e51c1>\u001b[0m in \u001b[0;36mdfs\u001b[1;34m(ss, string)\u001b[0m\n\u001b[0;32m     11\u001b[0m \u001b[1;33m\u001b[0m\u001b[0m\n\u001b[0;32m     12\u001b[0m     \u001b[1;32mfor\u001b[0m \u001b[0mch\u001b[0m \u001b[1;32min\u001b[0m \u001b[0moptions\u001b[0m\u001b[1;33m:\u001b[0m\u001b[1;33m\u001b[0m\u001b[1;33m\u001b[0m\u001b[0m\n\u001b[1;32m---> 13\u001b[1;33m         \u001b[0mdfs\u001b[0m\u001b[1;33m(\u001b[0m\u001b[0mss\u001b[0m\u001b[1;33m,\u001b[0m \u001b[0mstring\u001b[0m\u001b[1;33m+\u001b[0m\u001b[0mch\u001b[0m\u001b[1;33m)\u001b[0m\u001b[1;33m\u001b[0m\u001b[1;33m\u001b[0m\u001b[0m\n\u001b[0m",
      "\u001b[1;32m<ipython-input-13-fac15a6e51c1>\u001b[0m in \u001b[0;36mdfs\u001b[1;34m(ss, string)\u001b[0m\n\u001b[0;32m     11\u001b[0m \u001b[1;33m\u001b[0m\u001b[0m\n\u001b[0;32m     12\u001b[0m     \u001b[1;32mfor\u001b[0m \u001b[0mch\u001b[0m \u001b[1;32min\u001b[0m \u001b[0moptions\u001b[0m\u001b[1;33m:\u001b[0m\u001b[1;33m\u001b[0m\u001b[1;33m\u001b[0m\u001b[0m\n\u001b[1;32m---> 13\u001b[1;33m         \u001b[0mdfs\u001b[0m\u001b[1;33m(\u001b[0m\u001b[0mss\u001b[0m\u001b[1;33m,\u001b[0m \u001b[0mstring\u001b[0m\u001b[1;33m+\u001b[0m\u001b[0mch\u001b[0m\u001b[1;33m)\u001b[0m\u001b[1;33m\u001b[0m\u001b[1;33m\u001b[0m\u001b[0m\n\u001b[0m",
      "\u001b[1;32m<ipython-input-13-fac15a6e51c1>\u001b[0m in \u001b[0;36mdfs\u001b[1;34m(ss, string)\u001b[0m\n\u001b[0;32m     11\u001b[0m \u001b[1;33m\u001b[0m\u001b[0m\n\u001b[0;32m     12\u001b[0m     \u001b[1;32mfor\u001b[0m \u001b[0mch\u001b[0m \u001b[1;32min\u001b[0m \u001b[0moptions\u001b[0m\u001b[1;33m:\u001b[0m\u001b[1;33m\u001b[0m\u001b[1;33m\u001b[0m\u001b[0m\n\u001b[1;32m---> 13\u001b[1;33m         \u001b[0mdfs\u001b[0m\u001b[1;33m(\u001b[0m\u001b[0mss\u001b[0m\u001b[1;33m,\u001b[0m \u001b[0mstring\u001b[0m\u001b[1;33m+\u001b[0m\u001b[0mch\u001b[0m\u001b[1;33m)\u001b[0m\u001b[1;33m\u001b[0m\u001b[1;33m\u001b[0m\u001b[0m\n\u001b[0m",
      "\u001b[1;32m<ipython-input-13-fac15a6e51c1>\u001b[0m in \u001b[0;36mdfs\u001b[1;34m(ss, string)\u001b[0m\n\u001b[0;32m     11\u001b[0m \u001b[1;33m\u001b[0m\u001b[0m\n\u001b[0;32m     12\u001b[0m     \u001b[1;32mfor\u001b[0m \u001b[0mch\u001b[0m \u001b[1;32min\u001b[0m \u001b[0moptions\u001b[0m\u001b[1;33m:\u001b[0m\u001b[1;33m\u001b[0m\u001b[1;33m\u001b[0m\u001b[0m\n\u001b[1;32m---> 13\u001b[1;33m         \u001b[0mdfs\u001b[0m\u001b[1;33m(\u001b[0m\u001b[0mss\u001b[0m\u001b[1;33m,\u001b[0m \u001b[0mstring\u001b[0m\u001b[1;33m+\u001b[0m\u001b[0mch\u001b[0m\u001b[1;33m)\u001b[0m\u001b[1;33m\u001b[0m\u001b[1;33m\u001b[0m\u001b[0m\n\u001b[0m",
      "\u001b[1;32m<ipython-input-13-fac15a6e51c1>\u001b[0m in \u001b[0;36mdfs\u001b[1;34m(ss, string)\u001b[0m\n\u001b[0;32m     11\u001b[0m \u001b[1;33m\u001b[0m\u001b[0m\n\u001b[0;32m     12\u001b[0m     \u001b[1;32mfor\u001b[0m \u001b[0mch\u001b[0m \u001b[1;32min\u001b[0m \u001b[0moptions\u001b[0m\u001b[1;33m:\u001b[0m\u001b[1;33m\u001b[0m\u001b[1;33m\u001b[0m\u001b[0m\n\u001b[1;32m---> 13\u001b[1;33m         \u001b[0mdfs\u001b[0m\u001b[1;33m(\u001b[0m\u001b[0mss\u001b[0m\u001b[1;33m,\u001b[0m \u001b[0mstring\u001b[0m\u001b[1;33m+\u001b[0m\u001b[0mch\u001b[0m\u001b[1;33m)\u001b[0m\u001b[1;33m\u001b[0m\u001b[1;33m\u001b[0m\u001b[0m\n\u001b[0m",
      "\u001b[1;32m<ipython-input-13-fac15a6e51c1>\u001b[0m in \u001b[0;36mdfs\u001b[1;34m(ss, string)\u001b[0m\n\u001b[0;32m     11\u001b[0m \u001b[1;33m\u001b[0m\u001b[0m\n\u001b[0;32m     12\u001b[0m     \u001b[1;32mfor\u001b[0m \u001b[0mch\u001b[0m \u001b[1;32min\u001b[0m \u001b[0moptions\u001b[0m\u001b[1;33m:\u001b[0m\u001b[1;33m\u001b[0m\u001b[1;33m\u001b[0m\u001b[0m\n\u001b[1;32m---> 13\u001b[1;33m         \u001b[0mdfs\u001b[0m\u001b[1;33m(\u001b[0m\u001b[0mss\u001b[0m\u001b[1;33m,\u001b[0m \u001b[0mstring\u001b[0m\u001b[1;33m+\u001b[0m\u001b[0mch\u001b[0m\u001b[1;33m)\u001b[0m\u001b[1;33m\u001b[0m\u001b[1;33m\u001b[0m\u001b[0m\n\u001b[0m",
      "\u001b[1;32m<ipython-input-13-fac15a6e51c1>\u001b[0m in \u001b[0;36mdfs\u001b[1;34m(ss, string)\u001b[0m\n\u001b[0;32m     11\u001b[0m \u001b[1;33m\u001b[0m\u001b[0m\n\u001b[0;32m     12\u001b[0m     \u001b[1;32mfor\u001b[0m \u001b[0mch\u001b[0m \u001b[1;32min\u001b[0m \u001b[0moptions\u001b[0m\u001b[1;33m:\u001b[0m\u001b[1;33m\u001b[0m\u001b[1;33m\u001b[0m\u001b[0m\n\u001b[1;32m---> 13\u001b[1;33m         \u001b[0mdfs\u001b[0m\u001b[1;33m(\u001b[0m\u001b[0mss\u001b[0m\u001b[1;33m,\u001b[0m \u001b[0mstring\u001b[0m\u001b[1;33m+\u001b[0m\u001b[0mch\u001b[0m\u001b[1;33m)\u001b[0m\u001b[1;33m\u001b[0m\u001b[1;33m\u001b[0m\u001b[0m\n\u001b[0m",
      "\u001b[1;32m<ipython-input-13-fac15a6e51c1>\u001b[0m in \u001b[0;36mdfs\u001b[1;34m(ss, string)\u001b[0m\n\u001b[0;32m     11\u001b[0m \u001b[1;33m\u001b[0m\u001b[0m\n\u001b[0;32m     12\u001b[0m     \u001b[1;32mfor\u001b[0m \u001b[0mch\u001b[0m \u001b[1;32min\u001b[0m \u001b[0moptions\u001b[0m\u001b[1;33m:\u001b[0m\u001b[1;33m\u001b[0m\u001b[1;33m\u001b[0m\u001b[0m\n\u001b[1;32m---> 13\u001b[1;33m         \u001b[0mdfs\u001b[0m\u001b[1;33m(\u001b[0m\u001b[0mss\u001b[0m\u001b[1;33m,\u001b[0m \u001b[0mstring\u001b[0m\u001b[1;33m+\u001b[0m\u001b[0mch\u001b[0m\u001b[1;33m)\u001b[0m\u001b[1;33m\u001b[0m\u001b[1;33m\u001b[0m\u001b[0m\n\u001b[0m",
      "\u001b[1;32m<ipython-input-13-fac15a6e51c1>\u001b[0m in \u001b[0;36mdfs\u001b[1;34m(ss, string)\u001b[0m\n\u001b[0;32m     11\u001b[0m \u001b[1;33m\u001b[0m\u001b[0m\n\u001b[0;32m     12\u001b[0m     \u001b[1;32mfor\u001b[0m \u001b[0mch\u001b[0m \u001b[1;32min\u001b[0m \u001b[0moptions\u001b[0m\u001b[1;33m:\u001b[0m\u001b[1;33m\u001b[0m\u001b[1;33m\u001b[0m\u001b[0m\n\u001b[1;32m---> 13\u001b[1;33m         \u001b[0mdfs\u001b[0m\u001b[1;33m(\u001b[0m\u001b[0mss\u001b[0m\u001b[1;33m,\u001b[0m \u001b[0mstring\u001b[0m\u001b[1;33m+\u001b[0m\u001b[0mch\u001b[0m\u001b[1;33m)\u001b[0m\u001b[1;33m\u001b[0m\u001b[1;33m\u001b[0m\u001b[0m\n\u001b[0m",
      "\u001b[1;32m<ipython-input-13-fac15a6e51c1>\u001b[0m in \u001b[0;36mdfs\u001b[1;34m(ss, string)\u001b[0m\n\u001b[0;32m     11\u001b[0m \u001b[1;33m\u001b[0m\u001b[0m\n\u001b[0;32m     12\u001b[0m     \u001b[1;32mfor\u001b[0m \u001b[0mch\u001b[0m \u001b[1;32min\u001b[0m \u001b[0moptions\u001b[0m\u001b[1;33m:\u001b[0m\u001b[1;33m\u001b[0m\u001b[1;33m\u001b[0m\u001b[0m\n\u001b[1;32m---> 13\u001b[1;33m         \u001b[0mdfs\u001b[0m\u001b[1;33m(\u001b[0m\u001b[0mss\u001b[0m\u001b[1;33m,\u001b[0m \u001b[0mstring\u001b[0m\u001b[1;33m+\u001b[0m\u001b[0mch\u001b[0m\u001b[1;33m)\u001b[0m\u001b[1;33m\u001b[0m\u001b[1;33m\u001b[0m\u001b[0m\n\u001b[0m",
      "\u001b[1;32m<ipython-input-13-fac15a6e51c1>\u001b[0m in \u001b[0;36mdfs\u001b[1;34m(ss, string)\u001b[0m\n\u001b[0;32m     11\u001b[0m \u001b[1;33m\u001b[0m\u001b[0m\n\u001b[0;32m     12\u001b[0m     \u001b[1;32mfor\u001b[0m \u001b[0mch\u001b[0m \u001b[1;32min\u001b[0m \u001b[0moptions\u001b[0m\u001b[1;33m:\u001b[0m\u001b[1;33m\u001b[0m\u001b[1;33m\u001b[0m\u001b[0m\n\u001b[1;32m---> 13\u001b[1;33m         \u001b[0mdfs\u001b[0m\u001b[1;33m(\u001b[0m\u001b[0mss\u001b[0m\u001b[1;33m,\u001b[0m \u001b[0mstring\u001b[0m\u001b[1;33m+\u001b[0m\u001b[0mch\u001b[0m\u001b[1;33m)\u001b[0m\u001b[1;33m\u001b[0m\u001b[1;33m\u001b[0m\u001b[0m\n\u001b[0m",
      "\u001b[1;32m<ipython-input-13-fac15a6e51c1>\u001b[0m in \u001b[0;36mdfs\u001b[1;34m(ss, string)\u001b[0m\n\u001b[0;32m     11\u001b[0m \u001b[1;33m\u001b[0m\u001b[0m\n\u001b[0;32m     12\u001b[0m     \u001b[1;32mfor\u001b[0m \u001b[0mch\u001b[0m \u001b[1;32min\u001b[0m \u001b[0moptions\u001b[0m\u001b[1;33m:\u001b[0m\u001b[1;33m\u001b[0m\u001b[1;33m\u001b[0m\u001b[0m\n\u001b[1;32m---> 13\u001b[1;33m         \u001b[0mdfs\u001b[0m\u001b[1;33m(\u001b[0m\u001b[0mss\u001b[0m\u001b[1;33m,\u001b[0m \u001b[0mstring\u001b[0m\u001b[1;33m+\u001b[0m\u001b[0mch\u001b[0m\u001b[1;33m)\u001b[0m\u001b[1;33m\u001b[0m\u001b[1;33m\u001b[0m\u001b[0m\n\u001b[0m",
      "\u001b[1;32m<ipython-input-13-fac15a6e51c1>\u001b[0m in \u001b[0;36mdfs\u001b[1;34m(ss, string)\u001b[0m\n\u001b[0;32m     11\u001b[0m \u001b[1;33m\u001b[0m\u001b[0m\n\u001b[0;32m     12\u001b[0m     \u001b[1;32mfor\u001b[0m \u001b[0mch\u001b[0m \u001b[1;32min\u001b[0m \u001b[0moptions\u001b[0m\u001b[1;33m:\u001b[0m\u001b[1;33m\u001b[0m\u001b[1;33m\u001b[0m\u001b[0m\n\u001b[1;32m---> 13\u001b[1;33m         \u001b[0mdfs\u001b[0m\u001b[1;33m(\u001b[0m\u001b[0mss\u001b[0m\u001b[1;33m,\u001b[0m \u001b[0mstring\u001b[0m\u001b[1;33m+\u001b[0m\u001b[0mch\u001b[0m\u001b[1;33m)\u001b[0m\u001b[1;33m\u001b[0m\u001b[1;33m\u001b[0m\u001b[0m\n\u001b[0m",
      "\u001b[1;32m<ipython-input-13-fac15a6e51c1>\u001b[0m in \u001b[0;36mdfs\u001b[1;34m(ss, string)\u001b[0m\n\u001b[0;32m     11\u001b[0m \u001b[1;33m\u001b[0m\u001b[0m\n\u001b[0;32m     12\u001b[0m     \u001b[1;32mfor\u001b[0m \u001b[0mch\u001b[0m \u001b[1;32min\u001b[0m \u001b[0moptions\u001b[0m\u001b[1;33m:\u001b[0m\u001b[1;33m\u001b[0m\u001b[1;33m\u001b[0m\u001b[0m\n\u001b[1;32m---> 13\u001b[1;33m         \u001b[0mdfs\u001b[0m\u001b[1;33m(\u001b[0m\u001b[0mss\u001b[0m\u001b[1;33m,\u001b[0m \u001b[0mstring\u001b[0m\u001b[1;33m+\u001b[0m\u001b[0mch\u001b[0m\u001b[1;33m)\u001b[0m\u001b[1;33m\u001b[0m\u001b[1;33m\u001b[0m\u001b[0m\n\u001b[0m",
      "\u001b[1;32m<ipython-input-13-fac15a6e51c1>\u001b[0m in \u001b[0;36mdfs\u001b[1;34m(ss, string)\u001b[0m\n\u001b[0;32m     11\u001b[0m \u001b[1;33m\u001b[0m\u001b[0m\n\u001b[0;32m     12\u001b[0m     \u001b[1;32mfor\u001b[0m \u001b[0mch\u001b[0m \u001b[1;32min\u001b[0m \u001b[0moptions\u001b[0m\u001b[1;33m:\u001b[0m\u001b[1;33m\u001b[0m\u001b[1;33m\u001b[0m\u001b[0m\n\u001b[1;32m---> 13\u001b[1;33m         \u001b[0mdfs\u001b[0m\u001b[1;33m(\u001b[0m\u001b[0mss\u001b[0m\u001b[1;33m,\u001b[0m \u001b[0mstring\u001b[0m\u001b[1;33m+\u001b[0m\u001b[0mch\u001b[0m\u001b[1;33m)\u001b[0m\u001b[1;33m\u001b[0m\u001b[1;33m\u001b[0m\u001b[0m\n\u001b[0m",
      "\u001b[1;32m<ipython-input-13-fac15a6e51c1>\u001b[0m in \u001b[0;36mdfs\u001b[1;34m(ss, string)\u001b[0m\n\u001b[0;32m     11\u001b[0m \u001b[1;33m\u001b[0m\u001b[0m\n\u001b[0;32m     12\u001b[0m     \u001b[1;32mfor\u001b[0m \u001b[0mch\u001b[0m \u001b[1;32min\u001b[0m \u001b[0moptions\u001b[0m\u001b[1;33m:\u001b[0m\u001b[1;33m\u001b[0m\u001b[1;33m\u001b[0m\u001b[0m\n\u001b[1;32m---> 13\u001b[1;33m         \u001b[0mdfs\u001b[0m\u001b[1;33m(\u001b[0m\u001b[0mss\u001b[0m\u001b[1;33m,\u001b[0m \u001b[0mstring\u001b[0m\u001b[1;33m+\u001b[0m\u001b[0mch\u001b[0m\u001b[1;33m)\u001b[0m\u001b[1;33m\u001b[0m\u001b[1;33m\u001b[0m\u001b[0m\n\u001b[0m",
      "\u001b[1;32m<ipython-input-13-fac15a6e51c1>\u001b[0m in \u001b[0;36mdfs\u001b[1;34m(ss, string)\u001b[0m\n\u001b[0;32m     11\u001b[0m \u001b[1;33m\u001b[0m\u001b[0m\n\u001b[0;32m     12\u001b[0m     \u001b[1;32mfor\u001b[0m \u001b[0mch\u001b[0m \u001b[1;32min\u001b[0m \u001b[0moptions\u001b[0m\u001b[1;33m:\u001b[0m\u001b[1;33m\u001b[0m\u001b[1;33m\u001b[0m\u001b[0m\n\u001b[1;32m---> 13\u001b[1;33m         \u001b[0mdfs\u001b[0m\u001b[1;33m(\u001b[0m\u001b[0mss\u001b[0m\u001b[1;33m,\u001b[0m \u001b[0mstring\u001b[0m\u001b[1;33m+\u001b[0m\u001b[0mch\u001b[0m\u001b[1;33m)\u001b[0m\u001b[1;33m\u001b[0m\u001b[1;33m\u001b[0m\u001b[0m\n\u001b[0m",
      "\u001b[1;32m<ipython-input-13-fac15a6e51c1>\u001b[0m in \u001b[0;36mdfs\u001b[1;34m(ss, string)\u001b[0m\n\u001b[0;32m     11\u001b[0m \u001b[1;33m\u001b[0m\u001b[0m\n\u001b[0;32m     12\u001b[0m     \u001b[1;32mfor\u001b[0m \u001b[0mch\u001b[0m \u001b[1;32min\u001b[0m \u001b[0moptions\u001b[0m\u001b[1;33m:\u001b[0m\u001b[1;33m\u001b[0m\u001b[1;33m\u001b[0m\u001b[0m\n\u001b[1;32m---> 13\u001b[1;33m         \u001b[0mdfs\u001b[0m\u001b[1;33m(\u001b[0m\u001b[0mss\u001b[0m\u001b[1;33m,\u001b[0m \u001b[0mstring\u001b[0m\u001b[1;33m+\u001b[0m\u001b[0mch\u001b[0m\u001b[1;33m)\u001b[0m\u001b[1;33m\u001b[0m\u001b[1;33m\u001b[0m\u001b[0m\n\u001b[0m",
      "\u001b[1;32m<ipython-input-13-fac15a6e51c1>\u001b[0m in \u001b[0;36mdfs\u001b[1;34m(ss, string)\u001b[0m\n\u001b[0;32m     11\u001b[0m \u001b[1;33m\u001b[0m\u001b[0m\n\u001b[0;32m     12\u001b[0m     \u001b[1;32mfor\u001b[0m \u001b[0mch\u001b[0m \u001b[1;32min\u001b[0m \u001b[0moptions\u001b[0m\u001b[1;33m:\u001b[0m\u001b[1;33m\u001b[0m\u001b[1;33m\u001b[0m\u001b[0m\n\u001b[1;32m---> 13\u001b[1;33m         \u001b[0mdfs\u001b[0m\u001b[1;33m(\u001b[0m\u001b[0mss\u001b[0m\u001b[1;33m,\u001b[0m \u001b[0mstring\u001b[0m\u001b[1;33m+\u001b[0m\u001b[0mch\u001b[0m\u001b[1;33m)\u001b[0m\u001b[1;33m\u001b[0m\u001b[1;33m\u001b[0m\u001b[0m\n\u001b[0m",
      "\u001b[1;32m<ipython-input-13-fac15a6e51c1>\u001b[0m in \u001b[0;36mdfs\u001b[1;34m(ss, string)\u001b[0m\n\u001b[0;32m     11\u001b[0m \u001b[1;33m\u001b[0m\u001b[0m\n\u001b[0;32m     12\u001b[0m     \u001b[1;32mfor\u001b[0m \u001b[0mch\u001b[0m \u001b[1;32min\u001b[0m \u001b[0moptions\u001b[0m\u001b[1;33m:\u001b[0m\u001b[1;33m\u001b[0m\u001b[1;33m\u001b[0m\u001b[0m\n\u001b[1;32m---> 13\u001b[1;33m         \u001b[0mdfs\u001b[0m\u001b[1;33m(\u001b[0m\u001b[0mss\u001b[0m\u001b[1;33m,\u001b[0m \u001b[0mstring\u001b[0m\u001b[1;33m+\u001b[0m\u001b[0mch\u001b[0m\u001b[1;33m)\u001b[0m\u001b[1;33m\u001b[0m\u001b[1;33m\u001b[0m\u001b[0m\n\u001b[0m",
      "\u001b[1;32m<ipython-input-13-fac15a6e51c1>\u001b[0m in \u001b[0;36mdfs\u001b[1;34m(ss, string)\u001b[0m\n\u001b[0;32m     11\u001b[0m \u001b[1;33m\u001b[0m\u001b[0m\n\u001b[0;32m     12\u001b[0m     \u001b[1;32mfor\u001b[0m \u001b[0mch\u001b[0m \u001b[1;32min\u001b[0m \u001b[0moptions\u001b[0m\u001b[1;33m:\u001b[0m\u001b[1;33m\u001b[0m\u001b[1;33m\u001b[0m\u001b[0m\n\u001b[1;32m---> 13\u001b[1;33m         \u001b[0mdfs\u001b[0m\u001b[1;33m(\u001b[0m\u001b[0mss\u001b[0m\u001b[1;33m,\u001b[0m \u001b[0mstring\u001b[0m\u001b[1;33m+\u001b[0m\u001b[0mch\u001b[0m\u001b[1;33m)\u001b[0m\u001b[1;33m\u001b[0m\u001b[1;33m\u001b[0m\u001b[0m\n\u001b[0m",
      "\u001b[1;32m<ipython-input-13-fac15a6e51c1>\u001b[0m in \u001b[0;36mdfs\u001b[1;34m(ss, string)\u001b[0m\n\u001b[0;32m     11\u001b[0m \u001b[1;33m\u001b[0m\u001b[0m\n\u001b[0;32m     12\u001b[0m     \u001b[1;32mfor\u001b[0m \u001b[0mch\u001b[0m \u001b[1;32min\u001b[0m \u001b[0moptions\u001b[0m\u001b[1;33m:\u001b[0m\u001b[1;33m\u001b[0m\u001b[1;33m\u001b[0m\u001b[0m\n\u001b[1;32m---> 13\u001b[1;33m         \u001b[0mdfs\u001b[0m\u001b[1;33m(\u001b[0m\u001b[0mss\u001b[0m\u001b[1;33m,\u001b[0m \u001b[0mstring\u001b[0m\u001b[1;33m+\u001b[0m\u001b[0mch\u001b[0m\u001b[1;33m)\u001b[0m\u001b[1;33m\u001b[0m\u001b[1;33m\u001b[0m\u001b[0m\n\u001b[0m",
      "\u001b[1;32m<ipython-input-13-fac15a6e51c1>\u001b[0m in \u001b[0;36mdfs\u001b[1;34m(ss, string)\u001b[0m\n\u001b[0;32m     11\u001b[0m \u001b[1;33m\u001b[0m\u001b[0m\n\u001b[0;32m     12\u001b[0m     \u001b[1;32mfor\u001b[0m \u001b[0mch\u001b[0m \u001b[1;32min\u001b[0m \u001b[0moptions\u001b[0m\u001b[1;33m:\u001b[0m\u001b[1;33m\u001b[0m\u001b[1;33m\u001b[0m\u001b[0m\n\u001b[1;32m---> 13\u001b[1;33m         \u001b[0mdfs\u001b[0m\u001b[1;33m(\u001b[0m\u001b[0mss\u001b[0m\u001b[1;33m,\u001b[0m \u001b[0mstring\u001b[0m\u001b[1;33m+\u001b[0m\u001b[0mch\u001b[0m\u001b[1;33m)\u001b[0m\u001b[1;33m\u001b[0m\u001b[1;33m\u001b[0m\u001b[0m\n\u001b[0m",
      "\u001b[1;32m<ipython-input-13-fac15a6e51c1>\u001b[0m in \u001b[0;36mdfs\u001b[1;34m(ss, string)\u001b[0m\n\u001b[0;32m     11\u001b[0m \u001b[1;33m\u001b[0m\u001b[0m\n\u001b[0;32m     12\u001b[0m     \u001b[1;32mfor\u001b[0m \u001b[0mch\u001b[0m \u001b[1;32min\u001b[0m \u001b[0moptions\u001b[0m\u001b[1;33m:\u001b[0m\u001b[1;33m\u001b[0m\u001b[1;33m\u001b[0m\u001b[0m\n\u001b[1;32m---> 13\u001b[1;33m         \u001b[0mdfs\u001b[0m\u001b[1;33m(\u001b[0m\u001b[0mss\u001b[0m\u001b[1;33m,\u001b[0m \u001b[0mstring\u001b[0m\u001b[1;33m+\u001b[0m\u001b[0mch\u001b[0m\u001b[1;33m)\u001b[0m\u001b[1;33m\u001b[0m\u001b[1;33m\u001b[0m\u001b[0m\n\u001b[0m",
      "\u001b[1;32m<ipython-input-13-fac15a6e51c1>\u001b[0m in \u001b[0;36mdfs\u001b[1;34m(ss, string)\u001b[0m\n\u001b[0;32m     11\u001b[0m \u001b[1;33m\u001b[0m\u001b[0m\n\u001b[0;32m     12\u001b[0m     \u001b[1;32mfor\u001b[0m \u001b[0mch\u001b[0m \u001b[1;32min\u001b[0m \u001b[0moptions\u001b[0m\u001b[1;33m:\u001b[0m\u001b[1;33m\u001b[0m\u001b[1;33m\u001b[0m\u001b[0m\n\u001b[1;32m---> 13\u001b[1;33m         \u001b[0mdfs\u001b[0m\u001b[1;33m(\u001b[0m\u001b[0mss\u001b[0m\u001b[1;33m,\u001b[0m \u001b[0mstring\u001b[0m\u001b[1;33m+\u001b[0m\u001b[0mch\u001b[0m\u001b[1;33m)\u001b[0m\u001b[1;33m\u001b[0m\u001b[1;33m\u001b[0m\u001b[0m\n\u001b[0m",
      "\u001b[1;32m<ipython-input-13-fac15a6e51c1>\u001b[0m in \u001b[0;36mdfs\u001b[1;34m(ss, string)\u001b[0m\n\u001b[0;32m     11\u001b[0m \u001b[1;33m\u001b[0m\u001b[0m\n\u001b[0;32m     12\u001b[0m     \u001b[1;32mfor\u001b[0m \u001b[0mch\u001b[0m \u001b[1;32min\u001b[0m \u001b[0moptions\u001b[0m\u001b[1;33m:\u001b[0m\u001b[1;33m\u001b[0m\u001b[1;33m\u001b[0m\u001b[0m\n\u001b[1;32m---> 13\u001b[1;33m         \u001b[0mdfs\u001b[0m\u001b[1;33m(\u001b[0m\u001b[0mss\u001b[0m\u001b[1;33m,\u001b[0m \u001b[0mstring\u001b[0m\u001b[1;33m+\u001b[0m\u001b[0mch\u001b[0m\u001b[1;33m)\u001b[0m\u001b[1;33m\u001b[0m\u001b[1;33m\u001b[0m\u001b[0m\n\u001b[0m",
      "\u001b[1;32m<ipython-input-13-fac15a6e51c1>\u001b[0m in \u001b[0;36mdfs\u001b[1;34m(ss, string)\u001b[0m\n\u001b[0;32m     11\u001b[0m \u001b[1;33m\u001b[0m\u001b[0m\n\u001b[0;32m     12\u001b[0m     \u001b[1;32mfor\u001b[0m \u001b[0mch\u001b[0m \u001b[1;32min\u001b[0m \u001b[0moptions\u001b[0m\u001b[1;33m:\u001b[0m\u001b[1;33m\u001b[0m\u001b[1;33m\u001b[0m\u001b[0m\n\u001b[1;32m---> 13\u001b[1;33m         \u001b[0mdfs\u001b[0m\u001b[1;33m(\u001b[0m\u001b[0mss\u001b[0m\u001b[1;33m,\u001b[0m \u001b[0mstring\u001b[0m\u001b[1;33m+\u001b[0m\u001b[0mch\u001b[0m\u001b[1;33m)\u001b[0m\u001b[1;33m\u001b[0m\u001b[1;33m\u001b[0m\u001b[0m\n\u001b[0m",
      "\u001b[1;32m<ipython-input-13-fac15a6e51c1>\u001b[0m in \u001b[0;36mdfs\u001b[1;34m(ss, string)\u001b[0m\n\u001b[0;32m     11\u001b[0m \u001b[1;33m\u001b[0m\u001b[0m\n\u001b[0;32m     12\u001b[0m     \u001b[1;32mfor\u001b[0m \u001b[0mch\u001b[0m \u001b[1;32min\u001b[0m \u001b[0moptions\u001b[0m\u001b[1;33m:\u001b[0m\u001b[1;33m\u001b[0m\u001b[1;33m\u001b[0m\u001b[0m\n\u001b[1;32m---> 13\u001b[1;33m         \u001b[0mdfs\u001b[0m\u001b[1;33m(\u001b[0m\u001b[0mss\u001b[0m\u001b[1;33m,\u001b[0m \u001b[0mstring\u001b[0m\u001b[1;33m+\u001b[0m\u001b[0mch\u001b[0m\u001b[1;33m)\u001b[0m\u001b[1;33m\u001b[0m\u001b[1;33m\u001b[0m\u001b[0m\n\u001b[0m",
      "\u001b[1;32m<ipython-input-13-fac15a6e51c1>\u001b[0m in \u001b[0;36mdfs\u001b[1;34m(ss, string)\u001b[0m\n\u001b[0;32m     11\u001b[0m \u001b[1;33m\u001b[0m\u001b[0m\n\u001b[0;32m     12\u001b[0m     \u001b[1;32mfor\u001b[0m \u001b[0mch\u001b[0m \u001b[1;32min\u001b[0m \u001b[0moptions\u001b[0m\u001b[1;33m:\u001b[0m\u001b[1;33m\u001b[0m\u001b[1;33m\u001b[0m\u001b[0m\n\u001b[1;32m---> 13\u001b[1;33m         \u001b[0mdfs\u001b[0m\u001b[1;33m(\u001b[0m\u001b[0mss\u001b[0m\u001b[1;33m,\u001b[0m \u001b[0mstring\u001b[0m\u001b[1;33m+\u001b[0m\u001b[0mch\u001b[0m\u001b[1;33m)\u001b[0m\u001b[1;33m\u001b[0m\u001b[1;33m\u001b[0m\u001b[0m\n\u001b[0m",
      "\u001b[1;32m<ipython-input-13-fac15a6e51c1>\u001b[0m in \u001b[0;36mdfs\u001b[1;34m(ss, string)\u001b[0m\n\u001b[0;32m     11\u001b[0m \u001b[1;33m\u001b[0m\u001b[0m\n\u001b[0;32m     12\u001b[0m     \u001b[1;32mfor\u001b[0m \u001b[0mch\u001b[0m \u001b[1;32min\u001b[0m \u001b[0moptions\u001b[0m\u001b[1;33m:\u001b[0m\u001b[1;33m\u001b[0m\u001b[1;33m\u001b[0m\u001b[0m\n\u001b[1;32m---> 13\u001b[1;33m         \u001b[0mdfs\u001b[0m\u001b[1;33m(\u001b[0m\u001b[0mss\u001b[0m\u001b[1;33m,\u001b[0m \u001b[0mstring\u001b[0m\u001b[1;33m+\u001b[0m\u001b[0mch\u001b[0m\u001b[1;33m)\u001b[0m\u001b[1;33m\u001b[0m\u001b[1;33m\u001b[0m\u001b[0m\n\u001b[0m",
      "\u001b[1;32m<ipython-input-13-fac15a6e51c1>\u001b[0m in \u001b[0;36mdfs\u001b[1;34m(ss, string)\u001b[0m\n\u001b[0;32m     11\u001b[0m \u001b[1;33m\u001b[0m\u001b[0m\n\u001b[0;32m     12\u001b[0m     \u001b[1;32mfor\u001b[0m \u001b[0mch\u001b[0m \u001b[1;32min\u001b[0m \u001b[0moptions\u001b[0m\u001b[1;33m:\u001b[0m\u001b[1;33m\u001b[0m\u001b[1;33m\u001b[0m\u001b[0m\n\u001b[1;32m---> 13\u001b[1;33m         \u001b[0mdfs\u001b[0m\u001b[1;33m(\u001b[0m\u001b[0mss\u001b[0m\u001b[1;33m,\u001b[0m \u001b[0mstring\u001b[0m\u001b[1;33m+\u001b[0m\u001b[0mch\u001b[0m\u001b[1;33m)\u001b[0m\u001b[1;33m\u001b[0m\u001b[1;33m\u001b[0m\u001b[0m\n\u001b[0m",
      "\u001b[1;32m<ipython-input-13-fac15a6e51c1>\u001b[0m in \u001b[0;36mdfs\u001b[1;34m(ss, string)\u001b[0m\n\u001b[0;32m     11\u001b[0m \u001b[1;33m\u001b[0m\u001b[0m\n\u001b[0;32m     12\u001b[0m     \u001b[1;32mfor\u001b[0m \u001b[0mch\u001b[0m \u001b[1;32min\u001b[0m \u001b[0moptions\u001b[0m\u001b[1;33m:\u001b[0m\u001b[1;33m\u001b[0m\u001b[1;33m\u001b[0m\u001b[0m\n\u001b[1;32m---> 13\u001b[1;33m         \u001b[0mdfs\u001b[0m\u001b[1;33m(\u001b[0m\u001b[0mss\u001b[0m\u001b[1;33m,\u001b[0m \u001b[0mstring\u001b[0m\u001b[1;33m+\u001b[0m\u001b[0mch\u001b[0m\u001b[1;33m)\u001b[0m\u001b[1;33m\u001b[0m\u001b[1;33m\u001b[0m\u001b[0m\n\u001b[0m",
      "\u001b[1;32m<ipython-input-13-fac15a6e51c1>\u001b[0m in \u001b[0;36mdfs\u001b[1;34m(ss, string)\u001b[0m\n\u001b[0;32m     11\u001b[0m \u001b[1;33m\u001b[0m\u001b[0m\n\u001b[0;32m     12\u001b[0m     \u001b[1;32mfor\u001b[0m \u001b[0mch\u001b[0m \u001b[1;32min\u001b[0m \u001b[0moptions\u001b[0m\u001b[1;33m:\u001b[0m\u001b[1;33m\u001b[0m\u001b[1;33m\u001b[0m\u001b[0m\n\u001b[1;32m---> 13\u001b[1;33m         \u001b[0mdfs\u001b[0m\u001b[1;33m(\u001b[0m\u001b[0mss\u001b[0m\u001b[1;33m,\u001b[0m \u001b[0mstring\u001b[0m\u001b[1;33m+\u001b[0m\u001b[0mch\u001b[0m\u001b[1;33m)\u001b[0m\u001b[1;33m\u001b[0m\u001b[1;33m\u001b[0m\u001b[0m\n\u001b[0m",
      "\u001b[1;32m<ipython-input-13-fac15a6e51c1>\u001b[0m in \u001b[0;36mdfs\u001b[1;34m(ss, string)\u001b[0m\n\u001b[0;32m     11\u001b[0m \u001b[1;33m\u001b[0m\u001b[0m\n\u001b[0;32m     12\u001b[0m     \u001b[1;32mfor\u001b[0m \u001b[0mch\u001b[0m \u001b[1;32min\u001b[0m \u001b[0moptions\u001b[0m\u001b[1;33m:\u001b[0m\u001b[1;33m\u001b[0m\u001b[1;33m\u001b[0m\u001b[0m\n\u001b[1;32m---> 13\u001b[1;33m         \u001b[0mdfs\u001b[0m\u001b[1;33m(\u001b[0m\u001b[0mss\u001b[0m\u001b[1;33m,\u001b[0m \u001b[0mstring\u001b[0m\u001b[1;33m+\u001b[0m\u001b[0mch\u001b[0m\u001b[1;33m)\u001b[0m\u001b[1;33m\u001b[0m\u001b[1;33m\u001b[0m\u001b[0m\n\u001b[0m",
      "\u001b[1;32m<ipython-input-13-fac15a6e51c1>\u001b[0m in \u001b[0;36mdfs\u001b[1;34m(ss, string)\u001b[0m\n\u001b[0;32m     11\u001b[0m \u001b[1;33m\u001b[0m\u001b[0m\n\u001b[0;32m     12\u001b[0m     \u001b[1;32mfor\u001b[0m \u001b[0mch\u001b[0m \u001b[1;32min\u001b[0m \u001b[0moptions\u001b[0m\u001b[1;33m:\u001b[0m\u001b[1;33m\u001b[0m\u001b[1;33m\u001b[0m\u001b[0m\n\u001b[1;32m---> 13\u001b[1;33m         \u001b[0mdfs\u001b[0m\u001b[1;33m(\u001b[0m\u001b[0mss\u001b[0m\u001b[1;33m,\u001b[0m \u001b[0mstring\u001b[0m\u001b[1;33m+\u001b[0m\u001b[0mch\u001b[0m\u001b[1;33m)\u001b[0m\u001b[1;33m\u001b[0m\u001b[1;33m\u001b[0m\u001b[0m\n\u001b[0m",
      "\u001b[1;32m<ipython-input-13-fac15a6e51c1>\u001b[0m in \u001b[0;36mdfs\u001b[1;34m(ss, string)\u001b[0m\n\u001b[0;32m     11\u001b[0m \u001b[1;33m\u001b[0m\u001b[0m\n\u001b[0;32m     12\u001b[0m     \u001b[1;32mfor\u001b[0m \u001b[0mch\u001b[0m \u001b[1;32min\u001b[0m \u001b[0moptions\u001b[0m\u001b[1;33m:\u001b[0m\u001b[1;33m\u001b[0m\u001b[1;33m\u001b[0m\u001b[0m\n\u001b[1;32m---> 13\u001b[1;33m         \u001b[0mdfs\u001b[0m\u001b[1;33m(\u001b[0m\u001b[0mss\u001b[0m\u001b[1;33m,\u001b[0m \u001b[0mstring\u001b[0m\u001b[1;33m+\u001b[0m\u001b[0mch\u001b[0m\u001b[1;33m)\u001b[0m\u001b[1;33m\u001b[0m\u001b[1;33m\u001b[0m\u001b[0m\n\u001b[0m",
      "\u001b[1;32m<ipython-input-13-fac15a6e51c1>\u001b[0m in \u001b[0;36mdfs\u001b[1;34m(ss, string)\u001b[0m\n\u001b[0;32m      1\u001b[0m \u001b[1;32mdef\u001b[0m \u001b[0mdfs\u001b[0m\u001b[1;33m(\u001b[0m\u001b[0mss\u001b[0m\u001b[1;33m,\u001b[0m \u001b[0mstring\u001b[0m\u001b[1;33m=\u001b[0m\u001b[1;34m''\u001b[0m\u001b[1;33m)\u001b[0m\u001b[1;33m:\u001b[0m\u001b[1;33m\u001b[0m\u001b[1;33m\u001b[0m\u001b[0m\n\u001b[1;32m----> 2\u001b[1;33m     \u001b[0mscore\u001b[0m\u001b[1;33m,\u001b[0m \u001b[0moptions\u001b[0m \u001b[1;33m=\u001b[0m \u001b[0mss\u001b[0m\u001b[1;33m.\u001b[0m\u001b[0mget_child\u001b[0m\u001b[1;33m(\u001b[0m\u001b[0mstring\u001b[0m\u001b[1;33m)\u001b[0m\u001b[1;33m\u001b[0m\u001b[1;33m\u001b[0m\u001b[0m\n\u001b[0m\u001b[0;32m      3\u001b[0m \u001b[1;33m\u001b[0m\u001b[0m\n\u001b[0;32m      4\u001b[0m     \u001b[1;32mif\u001b[0m \u001b[0mscore\u001b[0m \u001b[1;33m>\u001b[0m \u001b[1;36m1000\u001b[0m\u001b[1;33m:\u001b[0m\u001b[1;33m\u001b[0m\u001b[1;33m\u001b[0m\u001b[0m\n\u001b[0;32m      5\u001b[0m         \u001b[1;32mreturn\u001b[0m \u001b[0mscore\u001b[0m\u001b[1;33m\u001b[0m\u001b[1;33m\u001b[0m\u001b[0m\n",
      "\u001b[1;32m~\\PycharmProjects\\LoopHero\\string_scorer.py\u001b[0m in \u001b[0;36mget_child\u001b[1;34m(self, string, show)\u001b[0m\n\u001b[0;32m     22\u001b[0m         \u001b[0mxf\u001b[0m\u001b[1;33m,\u001b[0m \u001b[0myf\u001b[0m \u001b[1;33m=\u001b[0m \u001b[0mfrom_string\u001b[0m\u001b[1;33m(\u001b[0m\u001b[0mgrid\u001b[0m\u001b[1;33m,\u001b[0m \u001b[1;34m'%'\u001b[0m\u001b[1;33m,\u001b[0m \u001b[0mself\u001b[0m\u001b[1;33m.\u001b[0m\u001b[0mi\u001b[0m\u001b[1;33m,\u001b[0m \u001b[0mself\u001b[0m\u001b[1;33m.\u001b[0m\u001b[0mj\u001b[0m\u001b[1;33m,\u001b[0m \u001b[0mstring\u001b[0m\u001b[1;33m)\u001b[0m\u001b[1;33m\u001b[0m\u001b[1;33m\u001b[0m\u001b[0m\n\u001b[0;32m     23\u001b[0m         \u001b[0moptions\u001b[0m \u001b[1;33m=\u001b[0m \u001b[0mcheck_udlr\u001b[0m\u001b[1;33m(\u001b[0m\u001b[0mgrid\u001b[0m\u001b[1;33m,\u001b[0m \u001b[0mxf\u001b[0m\u001b[1;33m,\u001b[0m \u001b[0myf\u001b[0m\u001b[1;33m)\u001b[0m\u001b[1;33m\u001b[0m\u001b[1;33m\u001b[0m\u001b[0m\n\u001b[1;32m---> 24\u001b[1;33m         \u001b[0mfill_adjacent_around_each_char\u001b[0m\u001b[1;33m(\u001b[0m\u001b[0mgrid\u001b[0m\u001b[1;33m,\u001b[0m \u001b[1;34m'%'\u001b[0m\u001b[1;33m,\u001b[0m \u001b[1;34m'|'\u001b[0m\u001b[1;33m)\u001b[0m\u001b[1;33m\u001b[0m\u001b[1;33m\u001b[0m\u001b[0m\n\u001b[0m\u001b[0;32m     25\u001b[0m         \u001b[1;32mif\u001b[0m \u001b[0mshow\u001b[0m\u001b[1;33m:\u001b[0m\u001b[1;33m\u001b[0m\u001b[1;33m\u001b[0m\u001b[0m\n\u001b[0;32m     26\u001b[0m             \u001b[0mrepc\u001b[0m\u001b[1;33m(\u001b[0m\u001b[0mgrid\u001b[0m\u001b[1;33m)\u001b[0m\u001b[1;33m\u001b[0m\u001b[1;33m\u001b[0m\u001b[0m\n",
      "\u001b[1;32m~\\PycharmProjects\\LoopHero\\grid_utils.py\u001b[0m in \u001b[0;36mfill_adjacent_around_each_char\u001b[1;34m(grid, target_char, fill_char)\u001b[0m\n\u001b[0;32m    112\u001b[0m         \u001b[1;32mfor\u001b[0m \u001b[0mj\u001b[0m\u001b[1;33m,\u001b[0m \u001b[0mcol\u001b[0m \u001b[1;32min\u001b[0m \u001b[0menumerate\u001b[0m\u001b[1;33m(\u001b[0m\u001b[0mrow\u001b[0m\u001b[1;33m)\u001b[0m\u001b[1;33m:\u001b[0m\u001b[1;33m\u001b[0m\u001b[1;33m\u001b[0m\u001b[0m\n\u001b[0;32m    113\u001b[0m             \u001b[1;32mif\u001b[0m \u001b[0mgrid\u001b[0m\u001b[1;33m[\u001b[0m\u001b[0mi\u001b[0m\u001b[1;33m]\u001b[0m\u001b[1;33m[\u001b[0m\u001b[0mj\u001b[0m\u001b[1;33m]\u001b[0m \u001b[1;33m==\u001b[0m \u001b[0mtarget_char\u001b[0m\u001b[1;33m:\u001b[0m\u001b[1;33m\u001b[0m\u001b[1;33m\u001b[0m\u001b[0m\n\u001b[1;32m--> 114\u001b[1;33m                 \u001b[0mfill_adjacent\u001b[0m\u001b[1;33m(\u001b[0m\u001b[0mgrid\u001b[0m\u001b[1;33m,\u001b[0m \u001b[0mi\u001b[0m\u001b[1;33m,\u001b[0m \u001b[0mj\u001b[0m\u001b[1;33m,\u001b[0m \u001b[0mfill_char\u001b[0m\u001b[1;33m)\u001b[0m\u001b[1;33m\u001b[0m\u001b[1;33m\u001b[0m\u001b[0m\n\u001b[0m\u001b[0;32m    115\u001b[0m \u001b[1;33m\u001b[0m\u001b[0m\n\u001b[0;32m    116\u001b[0m \u001b[1;33m\u001b[0m\u001b[0m\n",
      "\u001b[1;32m~\\PycharmProjects\\LoopHero\\grid_utils.py\u001b[0m in \u001b[0;36mfill_adjacent\u001b[1;34m(grid, x, y, char, use_diagonals)\u001b[0m\n\u001b[0;32m     96\u001b[0m \u001b[1;33m\u001b[0m\u001b[0m\n\u001b[0;32m     97\u001b[0m \u001b[1;32mdef\u001b[0m \u001b[0mfill_adjacent\u001b[0m\u001b[1;33m(\u001b[0m\u001b[0mgrid\u001b[0m\u001b[1;33m,\u001b[0m \u001b[0mx\u001b[0m\u001b[1;33m,\u001b[0m \u001b[0my\u001b[0m\u001b[1;33m,\u001b[0m \u001b[0mchar\u001b[0m\u001b[1;33m,\u001b[0m \u001b[0muse_diagonals\u001b[0m\u001b[1;33m=\u001b[0m\u001b[1;32mFalse\u001b[0m\u001b[1;33m)\u001b[0m\u001b[1;33m:\u001b[0m\u001b[1;33m\u001b[0m\u001b[1;33m\u001b[0m\u001b[0m\n\u001b[1;32m---> 98\u001b[1;33m     \u001b[1;32mfor\u001b[0m \u001b[0mi\u001b[0m\u001b[1;33m,\u001b[0m \u001b[0mj\u001b[0m\u001b[1;33m,\u001b[0m \u001b[0mch\u001b[0m \u001b[1;32min\u001b[0m \u001b[0madjacent_generator\u001b[0m\u001b[1;33m(\u001b[0m\u001b[0mgrid\u001b[0m\u001b[1;33m,\u001b[0m \u001b[0mx\u001b[0m\u001b[1;33m,\u001b[0m \u001b[0my\u001b[0m\u001b[1;33m,\u001b[0m \u001b[0muse_diagonals\u001b[0m\u001b[1;33m)\u001b[0m\u001b[1;33m:\u001b[0m\u001b[1;33m\u001b[0m\u001b[1;33m\u001b[0m\u001b[0m\n\u001b[0m\u001b[0;32m     99\u001b[0m         \u001b[1;32mif\u001b[0m \u001b[0mch\u001b[0m \u001b[1;33m==\u001b[0m \u001b[1;34m'-'\u001b[0m\u001b[1;33m:\u001b[0m\u001b[1;33m\u001b[0m\u001b[1;33m\u001b[0m\u001b[0m\n\u001b[0;32m    100\u001b[0m             \u001b[0mgrid\u001b[0m\u001b[1;33m[\u001b[0m\u001b[0mi\u001b[0m\u001b[1;33m]\u001b[0m\u001b[1;33m[\u001b[0m\u001b[0mj\u001b[0m\u001b[1;33m]\u001b[0m \u001b[1;33m=\u001b[0m \u001b[0mchar\u001b[0m\u001b[1;33m\u001b[0m\u001b[1;33m\u001b[0m\u001b[0m\n",
      "\u001b[1;32m~\\PycharmProjects\\LoopHero\\grid_utils.py\u001b[0m in \u001b[0;36madjacent_generator\u001b[1;34m(grid, x, y, include_diagonals, include_char)\u001b[0m\n\u001b[0;32m     79\u001b[0m             \u001b[1;32mif\u001b[0m \u001b[1;36m0\u001b[0m \u001b[1;33m<=\u001b[0m \u001b[0mi\u001b[0m \u001b[1;33m<\u001b[0m \u001b[0mlen\u001b[0m\u001b[1;33m(\u001b[0m\u001b[0mgrid\u001b[0m\u001b[1;33m)\u001b[0m \u001b[1;32mand\u001b[0m \u001b[1;36m0\u001b[0m \u001b[1;33m<=\u001b[0m \u001b[0mj\u001b[0m \u001b[1;33m<\u001b[0m \u001b[0mlen\u001b[0m\u001b[1;33m(\u001b[0m\u001b[0mgrid\u001b[0m\u001b[1;33m[\u001b[0m\u001b[1;36m0\u001b[0m\u001b[1;33m]\u001b[0m\u001b[1;33m)\u001b[0m\u001b[1;33m:\u001b[0m\u001b[1;33m\u001b[0m\u001b[1;33m\u001b[0m\u001b[0m\n\u001b[0;32m     80\u001b[0m                 \u001b[1;32mif\u001b[0m \u001b[0minclude_char\u001b[0m\u001b[1;33m:\u001b[0m\u001b[1;33m\u001b[0m\u001b[1;33m\u001b[0m\u001b[0m\n\u001b[1;32m---> 81\u001b[1;33m                     \u001b[1;32myield\u001b[0m \u001b[0mi\u001b[0m\u001b[1;33m,\u001b[0m \u001b[0mj\u001b[0m\u001b[1;33m,\u001b[0m \u001b[0mgrid\u001b[0m\u001b[1;33m[\u001b[0m\u001b[0mi\u001b[0m\u001b[1;33m]\u001b[0m\u001b[1;33m[\u001b[0m\u001b[0mj\u001b[0m\u001b[1;33m]\u001b[0m\u001b[1;33m\u001b[0m\u001b[1;33m\u001b[0m\u001b[0m\n\u001b[0m\u001b[0;32m     82\u001b[0m                 \u001b[1;32melse\u001b[0m\u001b[1;33m:\u001b[0m\u001b[1;33m\u001b[0m\u001b[1;33m\u001b[0m\u001b[0m\n\u001b[0;32m     83\u001b[0m                     \u001b[1;32myield\u001b[0m \u001b[0mi\u001b[0m\u001b[1;33m,\u001b[0m \u001b[0mj\u001b[0m\u001b[1;33m\u001b[0m\u001b[1;33m\u001b[0m\u001b[0m\n",
      "\u001b[1;31mKeyboardInterrupt\u001b[0m: "
     ]
    }
   ],
   "source": [
    "DFS.score = 0\n",
    "DFS.string = ''\n",
    "\n",
    "grid = empty_grid(12,5)\n",
    "# mark_restricted_areas(grid)\n",
    "ss = StringScorer(grid, 5, 0, 12, 5)\n",
    "dfs(ss,'')"
   ]
  },
  {
   "cell_type": "code",
   "execution_count": 15,
   "metadata": {},
   "outputs": [
    {
     "name": "stdout",
     "output_type": "stream",
     "text": [
      "\u001b[94m%\u001b[0m \u001b[94m%\u001b[0m \u001b[94m%\u001b[0m \u001b[94m%\u001b[0m \u001b[94m%\u001b[0m \n",
      "\u001b[94m%\u001b[0m \u001b[94m%\u001b[0m \u001b[94m%\u001b[0m \u001b[94m%\u001b[0m \u001b[94m%\u001b[0m \n",
      "\u001b[94m%\u001b[0m \u001b[94m%\u001b[0m \u001b[94m%\u001b[0m \u001b[94m%\u001b[0m \u001b[94m%\u001b[0m \n",
      "\u001b[94m%\u001b[0m \u001b[94m%\u001b[0m \u001b[94m%\u001b[0m \u001b[94m%\u001b[0m \u001b[94m%\u001b[0m \n",
      "\u001b[94m%\u001b[0m \u001b[94m%\u001b[0m \u001b[94m%\u001b[0m \u001b[94m%\u001b[0m \u001b[94m%\u001b[0m \n",
      "\u001b[94m%\u001b[0m \u001b[94m%\u001b[0m \u001b[94m%\u001b[0m \u001b[94m%\u001b[0m \u001b[94m%\u001b[0m \n",
      "\u001b[94m%\u001b[0m \u001b[94m%\u001b[0m \u001b[92m|\u001b[0m \u001b[92m|\u001b[0m \u001b[92m|\u001b[0m \n",
      "\u001b[94m%\u001b[0m \u001b[94m%\u001b[0m \u001b[94m%\u001b[0m \u001b[94m%\u001b[0m \u001b[92m|\u001b[0m \n",
      "\u001b[92m|\u001b[0m \u001b[92m|\u001b[0m \u001b[92m|\u001b[0m \u001b[94m%\u001b[0m \u001b[94m%\u001b[0m \n",
      "\u001b[94m%\u001b[0m \u001b[94m%\u001b[0m \u001b[94m%\u001b[0m \u001b[92m|\u001b[0m \u001b[94m%\u001b[0m \n",
      "\u001b[94m%\u001b[0m \u001b[92m|\u001b[0m \u001b[94m%\u001b[0m \u001b[94m%\u001b[0m \u001b[94m%\u001b[0m \n",
      "\u001b[94m%\u001b[0m \u001b[94m%\u001b[0m \u001b[92m|\u001b[0m \u001b[92m|\u001b[0m \u001b[92m|\u001b[0m \n",
      "\n",
      "(108, ['u', 'r'])\n"
     ]
    }
   ],
   "source": [
    "grid = empty_grid(12,5)\n",
    "# mark_restricted_areas(grid)\n",
    "ss = StringScorer(grid, 5, 0, 12, 5)\n",
    "ss.slideshow(\"\"\"12 \n",
    "16 u\n",
    "20 uu\n",
    "24 uuu\n",
    "28 uuuu\n",
    "32 uuuuur\n",
    "36 uuuuurr\n",
    "40 uuuuurrr\n",
    "44 uuuuurrrrd\n",
    "48 uuuuurrrrdllldrrrdllldrrrdllldldrrurrdldllldrrrrdldll\n",
    "52 uuuuurrrrdllldrrrdllldrrrdllldldrrurrdldllldrrdrru\n",
    "56 uuuuurrrrdllldrrrdllldrrrdllldldrrurrdldllldrdrrur\n",
    "60 uuuuurrrrdllldrrrdllldrrrdllldldrrurrdldllldrdrrru\n",
    "64 uuuuurrrrdllldrrrdllldrrrdllldldrrurrdldllldrddrruru\n",
    "68 uuuuurrrrdllldrrrdllldrrrdllldldrrurrdldlllddrdrruru\n",
    "72 uuuuurrrrdllldrrrdllldrrrdllldldrrurrdldlldldrdrruru\n",
    "76 uuuuurrrrdllldrrrdllldrrrdllldldrrurrdldlldlddrrurru\n",
    "80 uuuuurrrrdllldrrrdllldrrrdllldldrrurrdldldlldrdrruru\n",
    "84 uuuuurrrrdllldrrrdllldrrrdllldldrrurrddllldlddrrurr\n",
    "88 uuuuurrrrdllldrrrdllldrrrdllldldrrurrddlldlldrdrrur\n",
    "92 uuuuurrrrdllldrrrdllldrrrdllldldrrurddrddllullddr\n",
    "96 uuuuurrrrdllldrrrdllldrrrdllldldrrrrdllldlddrrurr\n",
    "100 uuuuurrrrdllldrrrdllldrrrdllldldrrrrdlldlldrdrrur\n",
    "104 uuuuurrrrdllldrrrdllldrrrdllldldrrrrddldldlluur\n",
    "108 uuuuurrrrdllldrrrdllldrrrdllldldrrrdrddllullddr\"\"\")"
   ]
  },
  {
   "cell_type": "code",
   "execution_count": 17,
   "metadata": {},
   "outputs": [
    {
     "name": "stdout",
     "output_type": "stream",
     "text": [
      "- \u001b[92m|\u001b[0m \u001b[92m|\u001b[0m \u001b[92m|\u001b[0m - - - - - - - - - - - - - - - - - \n",
      "\u001b[92m|\u001b[0m \u001b[94m%\u001b[0m \u001b[94m%\u001b[0m \u001b[94m%\u001b[0m \u001b[92m|\u001b[0m - - \u001b[91mx\u001b[0m \u001b[91mx\u001b[0m \u001b[91mx\u001b[0m \u001b[91mx\u001b[0m \u001b[91mx\u001b[0m \u001b[91mx\u001b[0m - - - - - - - - \n",
      "\u001b[92m|\u001b[0m \u001b[94m%\u001b[0m \u001b[92m|\u001b[0m \u001b[94m%\u001b[0m \u001b[92m|\u001b[0m - \u001b[91mx\u001b[0m O O O O O O \u001b[91mx\u001b[0m - - - - - - - \n",
      "\u001b[92m|\u001b[0m \u001b[94m%\u001b[0m \u001b[92m|\u001b[0m \u001b[94m%\u001b[0m \u001b[92m|\u001b[0m \u001b[91mx\u001b[0m O O \u001b[91mx\u001b[0m \u001b[91mx\u001b[0m \u001b[91mx\u001b[0m \u001b[91mx\u001b[0m O O \u001b[91mx\u001b[0m - - - - - - \n",
      "\u001b[92m|\u001b[0m \u001b[94m%\u001b[0m \u001b[92m|\u001b[0m \u001b[94m%\u001b[0m \u001b[92m|\u001b[0m \u001b[91mx\u001b[0m O \u001b[91mx\u001b[0m - - - - \u001b[91mx\u001b[0m O O \u001b[91mx\u001b[0m - - - - - \n",
      "\u001b[94m%\u001b[0m \u001b[94m%\u001b[0m \u001b[92m|\u001b[0m \u001b[94m%\u001b[0m \u001b[92m|\u001b[0m \u001b[91mx\u001b[0m O \u001b[91mx\u001b[0m \u001b[91mx\u001b[0m \u001b[91mx\u001b[0m \u001b[91mx\u001b[0m - - \u001b[91mx\u001b[0m O O \u001b[91mx\u001b[0m - - - - \n",
      "\u001b[92m|\u001b[0m \u001b[92m|\u001b[0m - \u001b[92m|\u001b[0m - \u001b[91mx\u001b[0m O O O O O \u001b[91mx\u001b[0m \u001b[91mx\u001b[0m \u001b[91mx\u001b[0m \u001b[91mx\u001b[0m O \u001b[91mx\u001b[0m - - - - \n",
      "- - - - - - \u001b[91mx\u001b[0m \u001b[91mx\u001b[0m \u001b[91mx\u001b[0m \u001b[91mx\u001b[0m O O O O \u001b[91mx\u001b[0m O O \u001b[91mx\u001b[0m - - - \n",
      "- - - - - - - - - - \u001b[91mx\u001b[0m \u001b[91mx\u001b[0m \u001b[91mx\u001b[0m O \u001b[91mx\u001b[0m \u001b[91mx\u001b[0m O \u001b[91mx\u001b[0m - - - \n",
      "- - - - - - - - - - - - \u001b[91mx\u001b[0m O O O O \u001b[91mx\u001b[0m - - - \n",
      "- - - - - - - - - - - - - \u001b[91mx\u001b[0m \u001b[91mx\u001b[0m \u001b[91mx\u001b[0m \u001b[91mx\u001b[0m - - - - \n",
      "- - - - - - - - - - - - - - - - - - - - - \n",
      "\n",
      "(100, ['l', 'r', 'd'])\n"
     ]
    }
   ],
   "source": [
    "# BFS\n",
    "grid = just_road_fixture()\n",
    "mark_restricted_areas(grid)\n",
    "ss = StringScorer(grid, 5, 0)\n",
    "\n",
    "ss.slideshow(\"\"\"12 \n",
    "16 u\n",
    "20 r\n",
    "24 ur\n",
    "28 ru\n",
    "32 uru\n",
    "36 ruu\n",
    "40 uruu\n",
    "44 ruuu\n",
    "48 uruuu\n",
    "52 ruuuu\n",
    "56 uruuur\n",
    "60 ruuuur\n",
    "64 uruuurr\n",
    "68 ruuuurr\n",
    "72 uruuurrr\n",
    "76 ruuuurrr\n",
    "80 uruuurrrr\n",
    "84 ruuuurrrr\n",
    "88 uruuurrddd\n",
    "92 ruuuurrddd\n",
    "96 uruuurrdddd\n",
    "100 ruuuurrdddd\"\"\")"
   ]
  },
  {
   "cell_type": "code",
   "execution_count": 19,
   "metadata": {
    "scrolled": false
   },
   "outputs": [
    {
     "name": "stdout",
     "output_type": "stream",
     "text": [
      "\u001b[94m%\u001b[0m \u001b[94m%\u001b[0m \u001b[94m%\u001b[0m \u001b[94m%\u001b[0m \u001b[94m%\u001b[0m \u001b[94m%\u001b[0m \u001b[94m%\u001b[0m \u001b[94m%\u001b[0m \u001b[94m%\u001b[0m \u001b[94m%\u001b[0m \u001b[94m%\u001b[0m \u001b[94m%\u001b[0m \u001b[94m%\u001b[0m \u001b[94m%\u001b[0m \u001b[94m%\u001b[0m \u001b[94m%\u001b[0m \u001b[94m%\u001b[0m \u001b[94m%\u001b[0m \u001b[94m%\u001b[0m \u001b[94m%\u001b[0m \u001b[94m%\u001b[0m \n",
      "\u001b[94m%\u001b[0m \u001b[92m|\u001b[0m \u001b[92m|\u001b[0m \u001b[92m|\u001b[0m \u001b[92m|\u001b[0m \u001b[92m|\u001b[0m \u001b[92m|\u001b[0m \u001b[91mx\u001b[0m \u001b[91mx\u001b[0m \u001b[91mx\u001b[0m \u001b[91mx\u001b[0m \u001b[91mx\u001b[0m \u001b[91mx\u001b[0m \u001b[92m|\u001b[0m \u001b[92m|\u001b[0m \u001b[92m|\u001b[0m \u001b[92m|\u001b[0m \u001b[92m|\u001b[0m \u001b[92m|\u001b[0m \u001b[92m|\u001b[0m \u001b[94m%\u001b[0m \n",
      "\u001b[94m%\u001b[0m \u001b[92m|\u001b[0m - - - - \u001b[91mx\u001b[0m O O O O O O \u001b[91mx\u001b[0m - - - - - - \u001b[92m|\u001b[0m \n",
      "\u001b[94m%\u001b[0m \u001b[92m|\u001b[0m - - - \u001b[91mx\u001b[0m O O \u001b[91mx\u001b[0m \u001b[91mx\u001b[0m \u001b[91mx\u001b[0m \u001b[91mx\u001b[0m O O \u001b[91mx\u001b[0m - - - - - - \n",
      "\u001b[94m%\u001b[0m \u001b[92m|\u001b[0m - - - \u001b[91mx\u001b[0m O \u001b[91mx\u001b[0m - - - - \u001b[91mx\u001b[0m O O \u001b[91mx\u001b[0m - - - - - \n",
      "\u001b[94m%\u001b[0m \u001b[92m|\u001b[0m - - - \u001b[91mx\u001b[0m O \u001b[91mx\u001b[0m \u001b[91mx\u001b[0m \u001b[91mx\u001b[0m \u001b[91mx\u001b[0m - - \u001b[91mx\u001b[0m O O \u001b[91mx\u001b[0m - - - - \n",
      "\u001b[92m|\u001b[0m - - - - \u001b[91mx\u001b[0m O O O O O \u001b[91mx\u001b[0m \u001b[91mx\u001b[0m \u001b[91mx\u001b[0m \u001b[91mx\u001b[0m O \u001b[91mx\u001b[0m - - - - \n",
      "- - - - - - \u001b[91mx\u001b[0m \u001b[91mx\u001b[0m \u001b[91mx\u001b[0m \u001b[91mx\u001b[0m O O O O \u001b[91mx\u001b[0m O O \u001b[91mx\u001b[0m - - - \n",
      "- - - - - - - - - - \u001b[91mx\u001b[0m \u001b[91mx\u001b[0m \u001b[91mx\u001b[0m O \u001b[91mx\u001b[0m \u001b[91mx\u001b[0m O \u001b[91mx\u001b[0m - - - \n",
      "- - - - - - - - - - - - \u001b[91mx\u001b[0m O O O O \u001b[91mx\u001b[0m - - - \n",
      "- - - - - - - - - - - - - \u001b[91mx\u001b[0m \u001b[91mx\u001b[0m \u001b[91mx\u001b[0m \u001b[91mx\u001b[0m - - - - \n",
      "- - - - - - - - - - - - - - - - - - - - - \n",
      "\n",
      "(84, ['l', 'd'])\n"
     ]
    }
   ],
   "source": [
    "# DFS first try\n",
    "# BFS\n",
    "grid = just_road_fixture()\n",
    "mark_restricted_areas(grid)\n",
    "ss = StringScorer(grid, 5, 0)\n",
    "\n",
    "ss.slideshow(\"\"\"12 \n",
    "16 u\n",
    "20 uu\n",
    "24 uuu\n",
    "28 uuuu\n",
    "32 uuuuur\n",
    "36 uuuuurr\n",
    "40 uuuuurrr\n",
    "44 uuuuurrrr\n",
    "48 uuuuurrrrr\n",
    "52 uuuuurrrrrr\n",
    "56 uuuuurrrrrrrrrrrrr\n",
    "60 uuuuurrrrrrrrrrrrrr\n",
    "64 uuuuurrrrrrrrrrrrrrr\n",
    "68 uuuuurrrrrrrrrrrrrrrr\n",
    "72 uuuuurrrrrrrrrrrrrrrrr\n",
    "76 uuuuurrrrrrrrrrrrrrrrrr\n",
    "80 uuuuurrrrrrrrrrrrrrrrrrr\n",
    "84 uuuuurrrrrrrrrrrrrrrrrrrrd\"\"\")"
   ]
  },
  {
   "cell_type": "code",
   "execution_count": 21,
   "metadata": {},
   "outputs": [
    {
     "name": "stdout",
     "output_type": "stream",
     "text": [
      "\u001b[94m%\u001b[0m \u001b[94m%\u001b[0m \u001b[94m%\u001b[0m \u001b[94m%\u001b[0m \u001b[94m%\u001b[0m \u001b[94m%\u001b[0m \u001b[94m%\u001b[0m \u001b[94m%\u001b[0m \u001b[94m%\u001b[0m \u001b[94m%\u001b[0m \u001b[94m%\u001b[0m \u001b[94m%\u001b[0m \u001b[94m%\u001b[0m \u001b[94m%\u001b[0m \u001b[94m%\u001b[0m \u001b[94m%\u001b[0m \u001b[94m%\u001b[0m \u001b[94m%\u001b[0m \u001b[94m%\u001b[0m \u001b[94m%\u001b[0m \u001b[94m%\u001b[0m \n",
      "\u001b[94m%\u001b[0m \u001b[94m%\u001b[0m \u001b[94m%\u001b[0m \u001b[94m%\u001b[0m \u001b[94m%\u001b[0m \u001b[94m%\u001b[0m \u001b[92m|\u001b[0m \u001b[91mx\u001b[0m \u001b[91mx\u001b[0m \u001b[91mx\u001b[0m \u001b[91mx\u001b[0m \u001b[91mx\u001b[0m \u001b[91mx\u001b[0m \u001b[92m|\u001b[0m \u001b[94m%\u001b[0m \u001b[94m%\u001b[0m \u001b[94m%\u001b[0m \u001b[94m%\u001b[0m \u001b[94m%\u001b[0m \u001b[94m%\u001b[0m \u001b[94m%\u001b[0m \n",
      "\u001b[94m%\u001b[0m \u001b[94m%\u001b[0m \u001b[94m%\u001b[0m \u001b[94m%\u001b[0m \u001b[94m%\u001b[0m \u001b[94m%\u001b[0m \u001b[91mx\u001b[0m O O O O O O \u001b[91mx\u001b[0m \u001b[94m%\u001b[0m \u001b[94m%\u001b[0m \u001b[94m%\u001b[0m \u001b[94m%\u001b[0m \u001b[94m%\u001b[0m \u001b[94m%\u001b[0m \u001b[94m%\u001b[0m \n",
      "\u001b[94m%\u001b[0m \u001b[94m%\u001b[0m \u001b[94m%\u001b[0m \u001b[94m%\u001b[0m \u001b[94m%\u001b[0m \u001b[91mx\u001b[0m O O \u001b[91mx\u001b[0m \u001b[91mx\u001b[0m \u001b[91mx\u001b[0m \u001b[91mx\u001b[0m O O \u001b[91mx\u001b[0m \u001b[92m|\u001b[0m \u001b[94m%\u001b[0m \u001b[94m%\u001b[0m \u001b[94m%\u001b[0m \u001b[94m%\u001b[0m \u001b[94m%\u001b[0m \n",
      "\u001b[94m%\u001b[0m \u001b[94m%\u001b[0m \u001b[94m%\u001b[0m \u001b[94m%\u001b[0m \u001b[94m%\u001b[0m \u001b[91mx\u001b[0m O \u001b[91mx\u001b[0m - - - - \u001b[91mx\u001b[0m O O \u001b[91mx\u001b[0m \u001b[94m%\u001b[0m \u001b[94m%\u001b[0m \u001b[94m%\u001b[0m \u001b[94m%\u001b[0m \u001b[94m%\u001b[0m \n",
      "\u001b[94m%\u001b[0m \u001b[94m%\u001b[0m \u001b[94m%\u001b[0m \u001b[94m%\u001b[0m \u001b[94m%\u001b[0m \u001b[91mx\u001b[0m O \u001b[91mx\u001b[0m \u001b[91mx\u001b[0m \u001b[91mx\u001b[0m \u001b[91mx\u001b[0m - - \u001b[91mx\u001b[0m O O \u001b[91mx\u001b[0m \u001b[94m%\u001b[0m \u001b[94m%\u001b[0m \u001b[94m%\u001b[0m \u001b[94m%\u001b[0m \n",
      "\u001b[94m%\u001b[0m \u001b[94m%\u001b[0m \u001b[94m%\u001b[0m \u001b[94m%\u001b[0m \u001b[94m%\u001b[0m \u001b[91mx\u001b[0m O O O O O \u001b[91mx\u001b[0m \u001b[91mx\u001b[0m \u001b[91mx\u001b[0m \u001b[91mx\u001b[0m O \u001b[91mx\u001b[0m \u001b[94m%\u001b[0m \u001b[94m%\u001b[0m \u001b[94m%\u001b[0m \u001b[94m%\u001b[0m \n",
      "\u001b[94m%\u001b[0m \u001b[94m%\u001b[0m \u001b[94m%\u001b[0m \u001b[94m%\u001b[0m \u001b[94m%\u001b[0m \u001b[94m%\u001b[0m \u001b[91mx\u001b[0m \u001b[91mx\u001b[0m \u001b[91mx\u001b[0m \u001b[91mx\u001b[0m O O O O \u001b[91mx\u001b[0m O O \u001b[91mx\u001b[0m \u001b[94m%\u001b[0m \u001b[94m%\u001b[0m \u001b[94m%\u001b[0m \n",
      "\u001b[94m%\u001b[0m \u001b[94m%\u001b[0m \u001b[94m%\u001b[0m \u001b[94m%\u001b[0m \u001b[92m|\u001b[0m \u001b[94m%\u001b[0m \u001b[92m|\u001b[0m \u001b[94m%\u001b[0m \u001b[94m%\u001b[0m \u001b[94m%\u001b[0m \u001b[91mx\u001b[0m \u001b[91mx\u001b[0m \u001b[91mx\u001b[0m O \u001b[91mx\u001b[0m \u001b[91mx\u001b[0m O \u001b[91mx\u001b[0m \u001b[94m%\u001b[0m \u001b[94m%\u001b[0m \u001b[94m%\u001b[0m \n",
      "\u001b[94m%\u001b[0m \u001b[92m|\u001b[0m \u001b[92m|\u001b[0m \u001b[92m|\u001b[0m \u001b[92m|\u001b[0m \u001b[94m%\u001b[0m \u001b[94m%\u001b[0m \u001b[94m%\u001b[0m \u001b[92m|\u001b[0m \u001b[94m%\u001b[0m \u001b[94m%\u001b[0m \u001b[92m|\u001b[0m \u001b[91mx\u001b[0m O O O O \u001b[91mx\u001b[0m \u001b[94m%\u001b[0m \u001b[94m%\u001b[0m \u001b[94m%\u001b[0m \n",
      "\u001b[94m%\u001b[0m \u001b[92m|\u001b[0m \u001b[92m|\u001b[0m \u001b[92m|\u001b[0m \u001b[92m|\u001b[0m \u001b[92m|\u001b[0m \u001b[92m|\u001b[0m \u001b[92m|\u001b[0m \u001b[92m|\u001b[0m \u001b[92m|\u001b[0m \u001b[92m|\u001b[0m \u001b[92m|\u001b[0m \u001b[92m|\u001b[0m \u001b[91mx\u001b[0m \u001b[91mx\u001b[0m \u001b[91mx\u001b[0m \u001b[91mx\u001b[0m \u001b[94m%\u001b[0m \u001b[94m%\u001b[0m \u001b[92m|\u001b[0m \u001b[92m|\u001b[0m \n",
      "\u001b[94m%\u001b[0m \u001b[94m%\u001b[0m \u001b[94m%\u001b[0m \u001b[94m%\u001b[0m \u001b[94m%\u001b[0m \u001b[94m%\u001b[0m \u001b[94m%\u001b[0m \u001b[94m%\u001b[0m \u001b[94m%\u001b[0m \u001b[94m%\u001b[0m \u001b[94m%\u001b[0m \u001b[94m%\u001b[0m \u001b[94m%\u001b[0m \u001b[94m%\u001b[0m \u001b[94m%\u001b[0m \u001b[94m%\u001b[0m \u001b[94m%\u001b[0m \u001b[94m%\u001b[0m \u001b[92m|\u001b[0m - - \n",
      "\n",
      "(176, ['r', 'd'])\n"
     ]
    }
   ],
   "source": [
    "# DFS little better\n",
    "\n",
    "grid = just_road_fixture()\n",
    "mark_restricted_areas(grid)\n",
    "ss = StringScorer(grid, 5, 0)\n",
    "\n",
    "ss.slideshow(\"\"\"88 uuuuurrrrrrrrrrrrrrrrrrrrdlllllldrrrrrrdlllldrrrrdllldrrrdlldrrdlldld\n",
    "92 uuuuurrrrrrrrrrrrrrrrrrrrdlllllldrrrrrrdlllldrrrrdllldrrrdlldrrdlldldlllll\n",
    "96 uuuuurrrrrrrrrrrrrrrrrrrrdlllllldrrrrrrdlllldrrrrdllldrrrdlldrrdlldldllllll\n",
    "100 uuuuurrrrrrrrrrrrrrrrrrrrdlllllldrrrrrrdlllldrrrrdllldrrrdlldrrdlldldlllllll\n",
    "104 uuuuurrrrrrrrrrrrrrrrrrrrdlllllldrrrrrrdlllldrrrrdllldrrrdlldrrdlldldllllllll\n",
    "108 uuuuurrrrrrrrrrrrrrrrrrrrdlllllldrrrrrrdlllldrrrrdllldrrrdlldrrdlldldlllllllll\n",
    "112 uuuuurrrrrrrrrrrrrrrrrrrrdlllllldrrrrrrdlllldrrrrdllldrrrdlldrrdlldldllllllllll\n",
    "116 uuuuurrrrrrrrrrrrrrrrrrrrdlllllldrrrrrrdlllldrrrrdllldrrrdlldrrdlldldlllllllllll\n",
    "120 uuuuurrrrrrrrrrrrrrrrrrrrdlllllldrrrrrrdlllldrrrrdllldrrrdlldrrdlldldllllllllllll\n",
    "124 uuuuurrrrrrrrrrrrrrrrrrrrdlllllldrrrrrrdlllldrrrrdllldrrrdlldrrdlldldlllllllllllll\n",
    "128 uuuuurrrrrrrrrrrrrrrrrrrrdlllllldrrrrrrdlllldrrrrdllldrrrdlldrrdlldldllllllllllllll\n",
    "132 uuuuurrrrrrrrrrrrrrrrrrrrdlllllldrrrrrrdlllldrrrrdllldrrrdlldrrdlldldlllllllllllllll\n",
    "136 uuuuurrrrrrrrrrrrrrrrrrrrdlllllldrrrrrrdlllldrrrrdllldrrrdlldrrdlldldllllllllllllllll\n",
    "140 uuuuurrrrrrrrrrrrrrrrrrrrdlllllldrrrrrrdlllldrrrrdllldrrrdlldrrdlldldlllllllllllllllllu\n",
    "144 uuuuurrrrrrrrrrrrrrrrrrrrdlllllldrrrrrrdlllldrrrrdllldrrrdlldrrdlldldllllllllllllllllluu\n",
    "148 uuuuurrrrrrrrrrrrrrrrrrrrdlllllldrrrrrrdlllldrrrrdllldrrrdlldrrdlldldllllllllllllllllluuu\n",
    "152 uuuuurrrrrrrrrrrrrrrrrrrrdlllllldrrrrrrdlllldrrrrdllldrrrdlldrrdlldldllllllllllllllllluuuu\n",
    "156 uuuuurrrrrrrrrrrrrrrrrrrrdlllllldrrrrrrdlllldrrrrdllldrrrdlldrrdlldldllllllllllllllllluuuuur\n",
    "160 uuuuurrrrrrrrrrrrrrrrrrrrdlllllldrrrrrrdlllldrrrrdllldrrrdlldrrdlldldllllllllllllllllluuuuuruuuuurrrrdllldrrdlldrrdlldldrrurrdldldrrrururrdr\n",
    "164 uuuuurrrrrrrrrrrrrrrrrrrrdlllllldrrrrrrdlllldrrrrdllldrrrdlldrrdlldldllllllllllllllllluuuuuruuuuurrrrdllldrrdlldrrdlldldrrurrdldrrurrdrr\n",
    "168 uuuuurrrrrrrrrrrrrrrrrrrrdlllllldrrrrrrdlllldrrrrdllldrrrdlldrrdlldldllllllllllllllllluuuuuruuuuurrrrdllldrrdlldrrdlldldrrurrdldrrrurrdr\n",
    "172 uuuuurrrrrrrrrrrrrrrrrrrrdlllllldrrrrrrdlllldrrrrdllldrrrdlldrrdlldldllllllllllllllllluuuuuruuuuurrrrdllldrrdlldrrdlldldrrurrdrdrrrr\n",
    "176 uuuuurrrrrrrrrrrrrrrrrrrrdlllllldrrrrrrdlllldrrrrdllldrrrdlldrrdlldldllllllllllllllllluuuuuruuuuurrrrdllldrrdlldrrdlldldrrurrddrrurrdr\"\"\")"
   ]
  },
  {
   "cell_type": "code",
   "execution_count": 22,
   "metadata": {},
   "outputs": [
    {
     "name": "stdout",
     "output_type": "stream",
     "text": [
      "- \u001b[92m|\u001b[0m \u001b[92m|\u001b[0m \u001b[92m|\u001b[0m - \n",
      "\u001b[92m|\u001b[0m \u001b[94m%\u001b[0m \u001b[94m%\u001b[0m \u001b[94m%\u001b[0m \u001b[92m|\u001b[0m \n",
      "\u001b[92m|\u001b[0m \u001b[94m%\u001b[0m \u001b[92m|\u001b[0m \u001b[94m%\u001b[0m \u001b[92m|\u001b[0m \n",
      "\u001b[92m|\u001b[0m \u001b[94m%\u001b[0m \u001b[92m|\u001b[0m \u001b[94m%\u001b[0m \u001b[92m|\u001b[0m \n",
      "\u001b[92m|\u001b[0m \u001b[94m%\u001b[0m \u001b[92m|\u001b[0m \u001b[94m%\u001b[0m \u001b[92m|\u001b[0m \n",
      "\u001b[94m%\u001b[0m \u001b[94m%\u001b[0m \u001b[92m|\u001b[0m \u001b[94m%\u001b[0m \u001b[92m|\u001b[0m \n",
      "\u001b[92m|\u001b[0m \u001b[92m|\u001b[0m \u001b[92m|\u001b[0m \u001b[94m%\u001b[0m \u001b[92m|\u001b[0m \n",
      "- - - \u001b[92m|\u001b[0m - \n",
      "- - - - - \n",
      "- - - - - \n",
      "- - - - - \n",
      "- - - - - \n",
      "\n",
      "(108, ['l', 'r', 'd'])\n"
     ]
    }
   ],
   "source": [
    "grid = empty_grid(12,5)\n",
    "# mark_restricted_areas(grid)\n",
    "ss = StringScorer(grid, 5, 0)\n",
    "ss.slideshow(\"\"\"12 \n",
    "16 u\n",
    "20 r\n",
    "24 ur\n",
    "28 ru\n",
    "32 uru\n",
    "36 ruu\n",
    "40 uruu\n",
    "44 ruuu\n",
    "48 uruuu\n",
    "52 ruuuu\n",
    "56 uruuur\n",
    "60 ruuuur\n",
    "64 uruuurr\n",
    "68 ruuuurr\n",
    "72 uruuurrd\n",
    "76 ruuuurrd\n",
    "80 uruuurrdd\n",
    "84 ruuuurrdd\n",
    "88 uruuurrddd\n",
    "92 ruuuurrddd\n",
    "96 uruuurrdddd\n",
    "100 ruuuurrdddd\n",
    "104 uruuurrddddl\n",
    "108 ruuuurrddddd\"\"\")"
   ]
  },
  {
   "cell_type": "code",
   "execution_count": 28,
   "metadata": {
    "scrolled": true
   },
   "outputs": [
    {
     "name": "stdout",
     "output_type": "stream",
     "text": [
      "180 ruuuurrdddddldlddrruru\n",
      "188 ruuuuuuuurrdddddddddldll\n",
      "196 ruuuuurrddddddldlddrruru\n"
     ]
    }
   ],
   "source": [
    "grid = empty_grid(12,5)\n",
    "# mark_restricted_areas(grid)\n",
    "ss = StringScorer(grid, 5, 0, 12, 5)\n",
    "rand_restart_hill_climbing(ss)"
   ]
  },
  {
   "cell_type": "code",
   "execution_count": 29,
   "metadata": {},
   "outputs": [
    {
     "name": "stdout",
     "output_type": "stream",
     "text": [
      "\u001b[92m|\u001b[0m \u001b[94m%\u001b[0m \u001b[94m%\u001b[0m \u001b[94m%\u001b[0m \u001b[92m|\u001b[0m \n",
      "\u001b[92m|\u001b[0m \u001b[94m%\u001b[0m \u001b[92m|\u001b[0m \u001b[94m%\u001b[0m \u001b[92m|\u001b[0m \n",
      "\u001b[92m|\u001b[0m \u001b[94m%\u001b[0m \u001b[92m|\u001b[0m \u001b[94m%\u001b[0m \u001b[92m|\u001b[0m \n",
      "\u001b[92m|\u001b[0m \u001b[94m%\u001b[0m \u001b[92m|\u001b[0m \u001b[94m%\u001b[0m \u001b[92m|\u001b[0m \n",
      "\u001b[92m|\u001b[0m \u001b[94m%\u001b[0m \u001b[92m|\u001b[0m \u001b[94m%\u001b[0m \u001b[92m|\u001b[0m \n",
      "\u001b[94m%\u001b[0m \u001b[94m%\u001b[0m \u001b[92m|\u001b[0m \u001b[94m%\u001b[0m \u001b[92m|\u001b[0m \n",
      "\u001b[92m|\u001b[0m \u001b[92m|\u001b[0m \u001b[94m%\u001b[0m \u001b[94m%\u001b[0m \u001b[92m|\u001b[0m \n",
      "\u001b[92m|\u001b[0m \u001b[94m%\u001b[0m \u001b[94m%\u001b[0m \u001b[92m|\u001b[0m \u001b[94m%\u001b[0m \n",
      "\u001b[92m|\u001b[0m \u001b[94m%\u001b[0m \u001b[92m|\u001b[0m \u001b[94m%\u001b[0m \u001b[94m%\u001b[0m \n",
      "\u001b[92m|\u001b[0m \u001b[94m%\u001b[0m \u001b[94m%\u001b[0m \u001b[94m%\u001b[0m \u001b[92m|\u001b[0m \n",
      "- \u001b[92m|\u001b[0m \u001b[92m|\u001b[0m \u001b[92m|\u001b[0m - \n",
      "- - - - - \n",
      "\n",
      "(184, ['l', 'u'])\n"
     ]
    }
   ],
   "source": [
    "grid = empty_grid(12,5)\n",
    "# mark_restricted_areas(grid)\n",
    "ss = StringScorer(grid, 5, 0, 12, 5)\n",
    "ss.slideshow(\"\"\"180 ruuuurrdddddldlddrruru\n",
    "184 llluuuuuuuuurrdddddddr\n",
    "188 ulluuuuuuuuurrdddddddrd\n",
    "196 ruuuuurrddddddldlddrruru\"\"\")"
   ]
  },
  {
   "cell_type": "code",
   "execution_count": 57,
   "metadata": {},
   "outputs": [
    {
     "name": "stdout",
     "output_type": "stream",
     "text": [
      "188 ruuuurrrrurrrrrrrrrdrrrrrddllllu\n",
      "220 ruuuuuuuurrrrurrrrrrrrrdrrrrrddllllu\n",
      "396 dllddrrddllddrrrdrdrrrrdrrdrrrrrrruruuuuluululululullllllllldld\n",
      "400 llllululullllllllldllllddrrddllddrrrdrdrrrrdrrdrrrrrrruruuuululu\n",
      "404 lllllulullllllllldllllddrrddllddrrrdrdrrrrdrrdrrrrrrruruuuuluullu\n",
      "412 llllllullllllllldllllddrrddllddrrrdrdrrrrdrrdrrrrrrruruuuuluulullu\n"
     ]
    },
    {
     "ename": "KeyboardInterrupt",
     "evalue": "",
     "output_type": "error",
     "traceback": [
      "\u001b[1;31m---------------------------------------------------------------------------\u001b[0m",
      "\u001b[1;31mKeyboardInterrupt\u001b[0m                         Traceback (most recent call last)",
      "\u001b[1;32m<ipython-input-57-7fcf2d4d4333>\u001b[0m in \u001b[0;36m<module>\u001b[1;34m\u001b[0m\n\u001b[0;32m      2\u001b[0m \u001b[0mmark_restricted_areas\u001b[0m\u001b[1;33m(\u001b[0m\u001b[0mgrid\u001b[0m\u001b[1;33m)\u001b[0m\u001b[1;33m\u001b[0m\u001b[1;33m\u001b[0m\u001b[0m\n\u001b[0;32m      3\u001b[0m \u001b[0mss\u001b[0m \u001b[1;33m=\u001b[0m \u001b[0mStringScorer\u001b[0m\u001b[1;33m(\u001b[0m\u001b[0mgrid\u001b[0m\u001b[1;33m,\u001b[0m \u001b[1;36m5\u001b[0m\u001b[1;33m,\u001b[0m \u001b[1;36m0\u001b[0m\u001b[1;33m)\u001b[0m\u001b[1;33m\u001b[0m\u001b[1;33m\u001b[0m\u001b[0m\n\u001b[1;32m----> 4\u001b[1;33m \u001b[0mrand_restart_hill_climbing\u001b[0m\u001b[1;33m(\u001b[0m\u001b[0mss\u001b[0m\u001b[1;33m)\u001b[0m\u001b[1;33m\u001b[0m\u001b[1;33m\u001b[0m\u001b[0m\n\u001b[0m",
      "\u001b[1;32m<ipython-input-49-fb506ea0b641>\u001b[0m in \u001b[0;36mrand_restart_hill_climbing\u001b[1;34m(ss, i)\u001b[0m\n\u001b[0;32m      3\u001b[0m     \u001b[0mbest_str\u001b[0m \u001b[1;33m=\u001b[0m \u001b[1;34m''\u001b[0m\u001b[1;33m\u001b[0m\u001b[1;33m\u001b[0m\u001b[0m\n\u001b[0;32m      4\u001b[0m     \u001b[1;32mfor\u001b[0m \u001b[0m_\u001b[0m \u001b[1;32min\u001b[0m \u001b[0mrange\u001b[0m\u001b[1;33m(\u001b[0m\u001b[0mi\u001b[0m\u001b[1;33m)\u001b[0m\u001b[1;33m:\u001b[0m\u001b[1;33m\u001b[0m\u001b[1;33m\u001b[0m\u001b[0m\n\u001b[1;32m----> 5\u001b[1;33m         \u001b[0mscore\u001b[0m\u001b[1;33m,\u001b[0m \u001b[0mstring\u001b[0m \u001b[1;33m=\u001b[0m \u001b[0mhill_climbing\u001b[0m\u001b[1;33m(\u001b[0m\u001b[0mss\u001b[0m\u001b[1;33m,\u001b[0m\u001b[0mverbose\u001b[0m\u001b[1;33m=\u001b[0m\u001b[1;32mFalse\u001b[0m\u001b[1;33m)\u001b[0m\u001b[1;33m\u001b[0m\u001b[1;33m\u001b[0m\u001b[0m\n\u001b[0m\u001b[0;32m      6\u001b[0m         \u001b[1;32mif\u001b[0m \u001b[0mscore\u001b[0m \u001b[1;33m>\u001b[0m \u001b[0mbest_score\u001b[0m\u001b[1;33m:\u001b[0m\u001b[1;33m\u001b[0m\u001b[1;33m\u001b[0m\u001b[0m\n\u001b[0;32m      7\u001b[0m             \u001b[0mbest_score\u001b[0m \u001b[1;33m=\u001b[0m \u001b[0mscore\u001b[0m\u001b[1;33m\u001b[0m\u001b[1;33m\u001b[0m\u001b[0m\n",
      "\u001b[1;32m<ipython-input-49-fb506ea0b641>\u001b[0m in \u001b[0;36mhill_climbing\u001b[1;34m(ss, verbose)\u001b[0m\n\u001b[0;32m     21\u001b[0m \u001b[1;33m\u001b[0m\u001b[0m\n\u001b[0;32m     22\u001b[0m         \u001b[1;32mfor\u001b[0m \u001b[0mch\u001b[0m \u001b[1;32min\u001b[0m \u001b[0moptions\u001b[0m\u001b[1;33m:\u001b[0m\u001b[1;33m\u001b[0m\u001b[1;33m\u001b[0m\u001b[0m\n\u001b[1;32m---> 23\u001b[1;33m             \u001b[0mnew_score\u001b[0m\u001b[1;33m,\u001b[0m \u001b[0mnew_options\u001b[0m \u001b[1;33m=\u001b[0m \u001b[0mss\u001b[0m\u001b[1;33m.\u001b[0m\u001b[0mget_child\u001b[0m\u001b[1;33m(\u001b[0m\u001b[0mstring\u001b[0m\u001b[1;33m+\u001b[0m\u001b[0mch\u001b[0m\u001b[1;33m)\u001b[0m\u001b[1;33m\u001b[0m\u001b[1;33m\u001b[0m\u001b[0m\n\u001b[0m\u001b[0;32m     24\u001b[0m             \u001b[1;32mif\u001b[0m \u001b[0mnew_score\u001b[0m \u001b[1;33m>\u001b[0m \u001b[0mlocal_best\u001b[0m\u001b[1;33m:\u001b[0m\u001b[1;33m\u001b[0m\u001b[1;33m\u001b[0m\u001b[0m\n\u001b[0;32m     25\u001b[0m                 \u001b[0mlocal_best\u001b[0m \u001b[1;33m=\u001b[0m \u001b[0mnew_score\u001b[0m\u001b[1;33m\u001b[0m\u001b[1;33m\u001b[0m\u001b[0m\n",
      "\u001b[1;32m<ipython-input-13-8bafa14c4b22>\u001b[0m in \u001b[0;36mget_child\u001b[1;34m(self, string, show)\u001b[0m\n\u001b[0;32m     14\u001b[0m             \u001b[0mrepc\u001b[0m\u001b[1;33m(\u001b[0m\u001b[0mgrid\u001b[0m\u001b[1;33m)\u001b[0m\u001b[1;33m\u001b[0m\u001b[1;33m\u001b[0m\u001b[0m\n\u001b[0;32m     15\u001b[0m \u001b[1;33m\u001b[0m\u001b[0m\n\u001b[1;32m---> 16\u001b[1;33m         \u001b[1;32mreturn\u001b[0m \u001b[0mscore\u001b[0m\u001b[1;33m(\u001b[0m\u001b[0mgrid\u001b[0m\u001b[1;33m)\u001b[0m\u001b[1;33m,\u001b[0m\u001b[0moptions\u001b[0m\u001b[1;33m\u001b[0m\u001b[1;33m\u001b[0m\u001b[0m\n\u001b[0m\u001b[0;32m     17\u001b[0m \u001b[1;33m\u001b[0m\u001b[0m\n\u001b[0;32m     18\u001b[0m     \u001b[1;32mdef\u001b[0m \u001b[0mshow\u001b[0m\u001b[1;33m(\u001b[0m\u001b[0mself\u001b[0m\u001b[1;33m,\u001b[0m \u001b[0mstring\u001b[0m\u001b[1;33m)\u001b[0m\u001b[1;33m:\u001b[0m\u001b[1;33m\u001b[0m\u001b[1;33m\u001b[0m\u001b[0m\n",
      "\u001b[1;32m~\\PycharmProjects\\LoopHero\\grid_utils.py\u001b[0m in \u001b[0;36mscore\u001b[1;34m(grid)\u001b[0m\n\u001b[0;32m    161\u001b[0m     \u001b[1;32mfor\u001b[0m \u001b[0mi\u001b[0m\u001b[1;33m,\u001b[0m \u001b[0mrow\u001b[0m \u001b[1;32min\u001b[0m \u001b[0menumerate\u001b[0m\u001b[1;33m(\u001b[0m\u001b[0mgrid\u001b[0m\u001b[1;33m)\u001b[0m\u001b[1;33m:\u001b[0m\u001b[1;33m\u001b[0m\u001b[1;33m\u001b[0m\u001b[0m\n\u001b[0;32m    162\u001b[0m         \u001b[1;32mfor\u001b[0m \u001b[0mj\u001b[0m\u001b[1;33m,\u001b[0m \u001b[0mcol\u001b[0m \u001b[1;32min\u001b[0m \u001b[0menumerate\u001b[0m\u001b[1;33m(\u001b[0m\u001b[0mrow\u001b[0m\u001b[1;33m)\u001b[0m\u001b[1;33m:\u001b[0m\u001b[1;33m\u001b[0m\u001b[1;33m\u001b[0m\u001b[0m\n\u001b[1;32m--> 163\u001b[1;33m             \u001b[0mscore\u001b[0m \u001b[1;33m+=\u001b[0m \u001b[0mtile_score\u001b[0m\u001b[1;33m(\u001b[0m\u001b[0mgrid\u001b[0m\u001b[1;33m,\u001b[0m \u001b[0mi\u001b[0m\u001b[1;33m,\u001b[0m \u001b[0mj\u001b[0m\u001b[1;33m)\u001b[0m\u001b[1;33m\u001b[0m\u001b[1;33m\u001b[0m\u001b[0m\n\u001b[0m\u001b[0;32m    164\u001b[0m     \u001b[1;32mreturn\u001b[0m \u001b[0mscore\u001b[0m\u001b[1;33m\u001b[0m\u001b[1;33m\u001b[0m\u001b[0m\n",
      "\u001b[1;32m~\\PycharmProjects\\LoopHero\\grid_utils.py\u001b[0m in \u001b[0;36mtile_score\u001b[1;34m(grid, x, y)\u001b[0m\n\u001b[0;32m    141\u001b[0m         \u001b[0mscore\u001b[0m \u001b[1;33m=\u001b[0m \u001b[0mdic\u001b[0m\u001b[1;33m[\u001b[0m\u001b[0mgrid\u001b[0m\u001b[1;33m[\u001b[0m\u001b[0mx\u001b[0m\u001b[1;33m]\u001b[0m\u001b[1;33m[\u001b[0m\u001b[0my\u001b[0m\u001b[1;33m]\u001b[0m\u001b[1;33m]\u001b[0m\u001b[1;33m\u001b[0m\u001b[1;33m\u001b[0m\u001b[0m\n\u001b[0;32m    142\u001b[0m \u001b[1;33m\u001b[0m\u001b[0m\n\u001b[1;32m--> 143\u001b[1;33m     \u001b[0mnum_adj\u001b[0m \u001b[1;33m=\u001b[0m \u001b[0mnum_adjacent\u001b[0m\u001b[1;33m(\u001b[0m\u001b[0mgrid\u001b[0m\u001b[1;33m,\u001b[0m \u001b[0mx\u001b[0m\u001b[1;33m,\u001b[0m \u001b[0my\u001b[0m\u001b[1;33m,\u001b[0m \u001b[1;34m'%'\u001b[0m\u001b[1;33m)\u001b[0m\u001b[1;33m\u001b[0m\u001b[1;33m\u001b[0m\u001b[0m\n\u001b[0m\u001b[0;32m    144\u001b[0m     \u001b[1;32mif\u001b[0m \u001b[0mnum_adj\u001b[0m \u001b[1;33m>\u001b[0m \u001b[1;36m0\u001b[0m\u001b[1;33m:\u001b[0m\u001b[1;33m\u001b[0m\u001b[1;33m\u001b[0m\u001b[0m\n\u001b[0;32m    145\u001b[0m         \u001b[1;32mreturn\u001b[0m \u001b[0mnum_adj\u001b[0m \u001b[1;33m*\u001b[0m \u001b[1;36m2\u001b[0m \u001b[1;33m*\u001b[0m \u001b[0mscore\u001b[0m\u001b[1;33m\u001b[0m\u001b[1;33m\u001b[0m\u001b[0m\n",
      "\u001b[1;32m~\\PycharmProjects\\LoopHero\\grid_utils.py\u001b[0m in \u001b[0;36mnum_adjacent\u001b[1;34m(grid, x, y, char, include_diagonals)\u001b[0m\n\u001b[0;32m     88\u001b[0m \u001b[1;32mdef\u001b[0m \u001b[0mnum_adjacent\u001b[0m\u001b[1;33m(\u001b[0m\u001b[0mgrid\u001b[0m\u001b[1;33m,\u001b[0m \u001b[0mx\u001b[0m\u001b[1;33m,\u001b[0m \u001b[0my\u001b[0m\u001b[1;33m,\u001b[0m \u001b[0mchar\u001b[0m\u001b[1;33m,\u001b[0m \u001b[0minclude_diagonals\u001b[0m\u001b[1;33m=\u001b[0m\u001b[1;32mFalse\u001b[0m\u001b[1;33m)\u001b[0m\u001b[1;33m:\u001b[0m\u001b[1;33m\u001b[0m\u001b[1;33m\u001b[0m\u001b[0m\n\u001b[0;32m     89\u001b[0m     \u001b[0mnum_adj\u001b[0m \u001b[1;33m=\u001b[0m \u001b[1;36m0\u001b[0m\u001b[1;33m\u001b[0m\u001b[1;33m\u001b[0m\u001b[0m\n\u001b[1;32m---> 90\u001b[1;33m     \u001b[1;32mfor\u001b[0m \u001b[0m_\u001b[0m\u001b[1;33m,\u001b[0m \u001b[0m_\u001b[0m\u001b[1;33m,\u001b[0m \u001b[0mch\u001b[0m \u001b[1;32min\u001b[0m \u001b[0madjacent_generator\u001b[0m\u001b[1;33m(\u001b[0m\u001b[0mgrid\u001b[0m\u001b[1;33m,\u001b[0m \u001b[0mx\u001b[0m\u001b[1;33m,\u001b[0m \u001b[0my\u001b[0m\u001b[1;33m,\u001b[0m \u001b[0minclude_diagonals\u001b[0m\u001b[1;33m)\u001b[0m\u001b[1;33m:\u001b[0m\u001b[1;33m\u001b[0m\u001b[1;33m\u001b[0m\u001b[0m\n\u001b[0m\u001b[0;32m     91\u001b[0m         \u001b[1;32mif\u001b[0m \u001b[0mch\u001b[0m \u001b[1;33m==\u001b[0m \u001b[0mchar\u001b[0m\u001b[1;33m:\u001b[0m\u001b[1;33m\u001b[0m\u001b[1;33m\u001b[0m\u001b[0m\n\u001b[0;32m     92\u001b[0m             \u001b[0mnum_adj\u001b[0m \u001b[1;33m+=\u001b[0m \u001b[1;36m1\u001b[0m\u001b[1;33m\u001b[0m\u001b[1;33m\u001b[0m\u001b[0m\n",
      "\u001b[1;32m~\\PycharmProjects\\LoopHero\\grid_utils.py\u001b[0m in \u001b[0;36madjacent_generator\u001b[1;34m(grid, x, y, include_diagonals, include_char)\u001b[0m\n\u001b[0;32m     77\u001b[0m             \u001b[0mi\u001b[0m \u001b[1;33m=\u001b[0m \u001b[0mx\u001b[0m \u001b[1;33m+\u001b[0m \u001b[0mdr\u001b[0m\u001b[1;33m\u001b[0m\u001b[1;33m\u001b[0m\u001b[0m\n\u001b[0;32m     78\u001b[0m             \u001b[0mj\u001b[0m \u001b[1;33m=\u001b[0m \u001b[0my\u001b[0m \u001b[1;33m+\u001b[0m \u001b[0mdc\u001b[0m\u001b[1;33m\u001b[0m\u001b[1;33m\u001b[0m\u001b[0m\n\u001b[1;32m---> 79\u001b[1;33m             \u001b[1;32mif\u001b[0m \u001b[1;36m0\u001b[0m \u001b[1;33m<=\u001b[0m \u001b[0mi\u001b[0m \u001b[1;33m<\u001b[0m \u001b[0mlen\u001b[0m\u001b[1;33m(\u001b[0m\u001b[0mgrid\u001b[0m\u001b[1;33m)\u001b[0m \u001b[1;32mand\u001b[0m \u001b[1;36m0\u001b[0m \u001b[1;33m<=\u001b[0m \u001b[0mj\u001b[0m \u001b[1;33m<\u001b[0m \u001b[0mlen\u001b[0m\u001b[1;33m(\u001b[0m\u001b[0mgrid\u001b[0m\u001b[1;33m[\u001b[0m\u001b[1;36m0\u001b[0m\u001b[1;33m]\u001b[0m\u001b[1;33m)\u001b[0m\u001b[1;33m:\u001b[0m\u001b[1;33m\u001b[0m\u001b[1;33m\u001b[0m\u001b[0m\n\u001b[0m\u001b[0;32m     80\u001b[0m                 \u001b[1;32mif\u001b[0m \u001b[0minclude_char\u001b[0m\u001b[1;33m:\u001b[0m\u001b[1;33m\u001b[0m\u001b[1;33m\u001b[0m\u001b[0m\n\u001b[0;32m     81\u001b[0m                     \u001b[1;32myield\u001b[0m \u001b[0mi\u001b[0m\u001b[1;33m,\u001b[0m \u001b[0mj\u001b[0m\u001b[1;33m,\u001b[0m \u001b[0mgrid\u001b[0m\u001b[1;33m[\u001b[0m\u001b[0mi\u001b[0m\u001b[1;33m]\u001b[0m\u001b[1;33m[\u001b[0m\u001b[0mj\u001b[0m\u001b[1;33m]\u001b[0m\u001b[1;33m\u001b[0m\u001b[1;33m\u001b[0m\u001b[0m\n",
      "\u001b[1;31mKeyboardInterrupt\u001b[0m: "
     ]
    }
   ],
   "source": [
    "grid = just_road_fixture()\n",
    "mark_restricted_areas(grid)\n",
    "ss = StringScorer(grid, 5, 0)\n",
    "rand_restart_hill_climbing(ss)"
   ]
  },
  {
   "cell_type": "code",
   "execution_count": 79,
   "metadata": {},
   "outputs": [
    {
     "data": {
      "text/plain": [
       "(4, 20)"
      ]
     },
     "execution_count": 79,
     "metadata": {},
     "output_type": "execute_result"
    }
   ],
   "source": [
    "roll_river_location()"
   ]
  },
  {
   "cell_type": "code",
   "execution_count": 76,
   "metadata": {},
   "outputs": [
    {
     "name": "stdout",
     "output_type": "stream",
     "text": [
      "- - - - - - - - - - - - - - - - - - - - - \n",
      "- - - - - - - - - - - - - - - - - - - - - \n",
      "- - - - - - - - - - - - - - - - - - - - - \n",
      "- - - - - - - - - - - - - - - - - - - - - \n",
      "- - - - - - % % % % % % % % % % - - - - - \n",
      "% - % % % % % - - - - - - - - % % % % % % \n",
      "- - % - - - - - - - - - - - - - - - - - - \n",
      "- - % % % - - - - - - - - - - - - - - - - \n",
      "- - - - % - - - - - - - - - - - - - - - - \n",
      "- - % % % - - - - - - - - - - - - - - - - \n",
      "- - % - - - - - - - - - - - - - - - - - - \n",
      "- - % % % % - - - - - - - - - - - - - - - \n",
      "\n"
     ]
    }
   ],
   "source": [
    "grid = empty_grid(12,21)\n",
    "\n",
    "from_string(grid, '%', 5, 0 ,'llllllullllllllldllllddrrddllddrrr)\n",
    "rep(grid)"
   ]
  },
  {
   "cell_type": "code",
   "execution_count": 59,
   "metadata": {},
   "outputs": [
    {
     "ename": "IndexError",
     "evalue": "list index out of range",
     "output_type": "error",
     "traceback": [
      "\u001b[1;31m---------------------------------------------------------------------------\u001b[0m",
      "\u001b[1;31mIndexError\u001b[0m                                Traceback (most recent call last)",
      "\u001b[1;32m<ipython-input-59-6ccd1ac0b8f3>\u001b[0m in \u001b[0;36m<module>\u001b[1;34m\u001b[0m\n\u001b[0;32m      7\u001b[0m \u001b[1;36m400\u001b[0m \u001b[0mllllululullllllllldllllddrrddllddrrrdrdrrrrdrrdrrrrrrruruuuululu\u001b[0m\u001b[1;33m\u001b[0m\u001b[1;33m\u001b[0m\u001b[0m\n\u001b[0;32m      8\u001b[0m \u001b[1;36m404\u001b[0m \u001b[0mlllllulullllllllldllllddrrddllddrrrdrdrrrrdrrdrrrrrrruruuuuluullu\u001b[0m\u001b[1;33m\u001b[0m\u001b[1;33m\u001b[0m\u001b[0m\n\u001b[1;32m----> 9\u001b[1;33m 412 llllllullllllllldllllddrrddllddrrrdrdrrrrdrrdrrrrrrruruuuuluulullu\"\"\")\n\u001b[0m",
      "\u001b[1;32m<ipython-input-13-8bafa14c4b22>\u001b[0m in \u001b[0;36mslideshow\u001b[1;34m(self, strings)\u001b[0m\n\u001b[0;32m     24\u001b[0m     \u001b[1;32mdef\u001b[0m \u001b[0mslideshow\u001b[0m\u001b[1;33m(\u001b[0m\u001b[0mself\u001b[0m\u001b[1;33m,\u001b[0m \u001b[0mstrings\u001b[0m\u001b[1;33m)\u001b[0m\u001b[1;33m:\u001b[0m\u001b[1;33m\u001b[0m\u001b[1;33m\u001b[0m\u001b[0m\n\u001b[0;32m     25\u001b[0m         \u001b[1;32mfor\u001b[0m \u001b[0mstring\u001b[0m \u001b[1;32min\u001b[0m \u001b[0mre\u001b[0m\u001b[1;33m.\u001b[0m\u001b[0mfindall\u001b[0m\u001b[1;33m(\u001b[0m\u001b[1;34mr'[urld]+'\u001b[0m\u001b[1;33m,\u001b[0m \u001b[0mstrings\u001b[0m\u001b[1;33m)\u001b[0m\u001b[1;33m:\u001b[0m\u001b[1;33m\u001b[0m\u001b[1;33m\u001b[0m\u001b[0m\n\u001b[1;32m---> 26\u001b[1;33m             \u001b[0mprint\u001b[0m\u001b[1;33m(\u001b[0m\u001b[0mself\u001b[0m\u001b[1;33m.\u001b[0m\u001b[0mshow\u001b[0m\u001b[1;33m(\u001b[0m\u001b[0mstring\u001b[0m\u001b[1;33m)\u001b[0m\u001b[1;33m)\u001b[0m\u001b[1;33m\u001b[0m\u001b[1;33m\u001b[0m\u001b[0m\n\u001b[0m\u001b[0;32m     27\u001b[0m             \u001b[0msleep\u001b[0m\u001b[1;33m(\u001b[0m\u001b[1;36m0.5\u001b[0m\u001b[1;33m)\u001b[0m\u001b[1;33m\u001b[0m\u001b[1;33m\u001b[0m\u001b[0m\n\u001b[0;32m     28\u001b[0m             \u001b[0mclear_output\u001b[0m\u001b[1;33m(\u001b[0m\u001b[0mwait\u001b[0m\u001b[1;33m=\u001b[0m\u001b[1;32mTrue\u001b[0m\u001b[1;33m)\u001b[0m\u001b[1;33m\u001b[0m\u001b[1;33m\u001b[0m\u001b[0m\n",
      "\u001b[1;32m<ipython-input-13-8bafa14c4b22>\u001b[0m in \u001b[0;36mshow\u001b[1;34m(self, string)\u001b[0m\n\u001b[0;32m     17\u001b[0m \u001b[1;33m\u001b[0m\u001b[0m\n\u001b[0;32m     18\u001b[0m     \u001b[1;32mdef\u001b[0m \u001b[0mshow\u001b[0m\u001b[1;33m(\u001b[0m\u001b[0mself\u001b[0m\u001b[1;33m,\u001b[0m \u001b[0mstring\u001b[0m\u001b[1;33m)\u001b[0m\u001b[1;33m:\u001b[0m\u001b[1;33m\u001b[0m\u001b[1;33m\u001b[0m\u001b[0m\n\u001b[1;32m---> 19\u001b[1;33m         \u001b[1;32mreturn\u001b[0m \u001b[0mself\u001b[0m\u001b[1;33m.\u001b[0m\u001b[0mget_child\u001b[0m\u001b[1;33m(\u001b[0m\u001b[0mstring\u001b[0m\u001b[1;33m,\u001b[0m \u001b[1;32mTrue\u001b[0m\u001b[1;33m)\u001b[0m\u001b[1;33m\u001b[0m\u001b[1;33m\u001b[0m\u001b[0m\n\u001b[0m\u001b[0;32m     20\u001b[0m \u001b[1;33m\u001b[0m\u001b[0m\n\u001b[0;32m     21\u001b[0m     \u001b[1;32mdef\u001b[0m \u001b[0mshuffle\u001b[0m\u001b[1;33m(\u001b[0m\u001b[0mself\u001b[0m\u001b[1;33m)\u001b[0m\u001b[1;33m:\u001b[0m\u001b[1;33m\u001b[0m\u001b[1;33m\u001b[0m\u001b[0m\n",
      "\u001b[1;32m<ipython-input-13-8bafa14c4b22>\u001b[0m in \u001b[0;36mget_child\u001b[1;34m(self, string, show)\u001b[0m\n\u001b[0;32m      8\u001b[0m     \u001b[1;32mdef\u001b[0m \u001b[0mget_child\u001b[0m\u001b[1;33m(\u001b[0m\u001b[0mself\u001b[0m\u001b[1;33m,\u001b[0m \u001b[0mstring\u001b[0m\u001b[1;33m,\u001b[0m \u001b[0mshow\u001b[0m\u001b[1;33m=\u001b[0m\u001b[1;32mFalse\u001b[0m\u001b[1;33m)\u001b[0m\u001b[1;33m:\u001b[0m\u001b[1;33m\u001b[0m\u001b[1;33m\u001b[0m\u001b[0m\n\u001b[0;32m      9\u001b[0m         \u001b[0mgrid\u001b[0m \u001b[1;33m=\u001b[0m \u001b[0mcopy\u001b[0m\u001b[1;33m(\u001b[0m\u001b[0mself\u001b[0m\u001b[1;33m.\u001b[0m\u001b[0mstarting_grid\u001b[0m\u001b[1;33m)\u001b[0m\u001b[1;33m\u001b[0m\u001b[1;33m\u001b[0m\u001b[0m\n\u001b[1;32m---> 10\u001b[1;33m         \u001b[0mxf\u001b[0m\u001b[1;33m,\u001b[0m \u001b[0myf\u001b[0m \u001b[1;33m=\u001b[0m \u001b[0mfrom_string\u001b[0m\u001b[1;33m(\u001b[0m\u001b[0mgrid\u001b[0m\u001b[1;33m,\u001b[0m \u001b[1;34m'%'\u001b[0m\u001b[1;33m,\u001b[0m \u001b[0mself\u001b[0m\u001b[1;33m.\u001b[0m\u001b[0mi\u001b[0m\u001b[1;33m,\u001b[0m \u001b[0mself\u001b[0m\u001b[1;33m.\u001b[0m\u001b[0mj\u001b[0m\u001b[1;33m,\u001b[0m \u001b[0mstring\u001b[0m\u001b[1;33m)\u001b[0m\u001b[1;33m\u001b[0m\u001b[1;33m\u001b[0m\u001b[0m\n\u001b[0m\u001b[0;32m     11\u001b[0m         \u001b[0moptions\u001b[0m \u001b[1;33m=\u001b[0m \u001b[0mcheck_udlr\u001b[0m\u001b[1;33m(\u001b[0m\u001b[0mgrid\u001b[0m\u001b[1;33m,\u001b[0m \u001b[0mxf\u001b[0m\u001b[1;33m,\u001b[0m \u001b[0myf\u001b[0m\u001b[1;33m)\u001b[0m\u001b[1;33m\u001b[0m\u001b[1;33m\u001b[0m\u001b[0m\n\u001b[0;32m     12\u001b[0m         \u001b[0mfill_adjacent_around_each_char\u001b[0m\u001b[1;33m(\u001b[0m\u001b[0mgrid\u001b[0m\u001b[1;33m,\u001b[0m \u001b[1;34m'%'\u001b[0m\u001b[1;33m,\u001b[0m \u001b[1;34m'|'\u001b[0m\u001b[1;33m)\u001b[0m\u001b[1;33m\u001b[0m\u001b[1;33m\u001b[0m\u001b[0m\n",
      "\u001b[1;32m~\\PycharmProjects\\LoopHero\\grid_utils.py\u001b[0m in \u001b[0;36mfrom_string\u001b[1;34m(grid, char, x, y, string)\u001b[0m\n\u001b[0;32m     54\u001b[0m         \u001b[1;32melse\u001b[0m\u001b[1;33m:\u001b[0m\u001b[1;33m\u001b[0m\u001b[1;33m\u001b[0m\u001b[0m\n\u001b[0;32m     55\u001b[0m             \u001b[1;32mraise\u001b[0m \u001b[0mValueError\u001b[0m\u001b[1;33m(\u001b[0m\u001b[1;34m'Invalid Character, use u,d,l, or r'\u001b[0m\u001b[1;33m)\u001b[0m\u001b[1;33m\u001b[0m\u001b[1;33m\u001b[0m\u001b[0m\n\u001b[1;32m---> 56\u001b[1;33m         \u001b[0mgrid\u001b[0m\u001b[1;33m[\u001b[0m\u001b[0mrow\u001b[0m\u001b[1;33m]\u001b[0m\u001b[1;33m[\u001b[0m\u001b[0mcol\u001b[0m\u001b[1;33m]\u001b[0m \u001b[1;33m=\u001b[0m \u001b[0mchar\u001b[0m\u001b[1;33m\u001b[0m\u001b[1;33m\u001b[0m\u001b[0m\n\u001b[0m\u001b[0;32m     57\u001b[0m \u001b[1;33m\u001b[0m\u001b[0m\n\u001b[0;32m     58\u001b[0m     \u001b[1;32mreturn\u001b[0m \u001b[0mrow\u001b[0m\u001b[1;33m,\u001b[0m \u001b[0mcol\u001b[0m\u001b[1;33m\u001b[0m\u001b[1;33m\u001b[0m\u001b[0m\n",
      "\u001b[1;31mIndexError\u001b[0m: list index out of range"
     ]
    }
   ],
   "source": [
    "grid = just_road_fixture()\n",
    "mark_restricted_areas(grid)\n",
    "ss = StringScorer(grid, 5, 0)\n",
    "ss.slideshow(\"\"\"188 ruuuurrrrurrrrrrrrrdrrrrrddllllu\n",
    "220 ruuuuuuuurrrrurrrrrrrrrdrrrrrddllllu\n",
    "396 dllddrrddllddrrrdrdrrrrdrrdrrrrrrruruuuuluululululullllllllldld\n",
    "400 llllululullllllllldllllddrrddllddrrrdrdrrrrdrrdrrrrrrruruuuululu\n",
    "404 lllllulullllllllldllllddrrddllddrrrdrdrrrrdrrdrrrrrrruruuuuluullu\n",
    "412 llllllullllllllldllllddrrddllddrrrdrdrrrrdrrdrrrrrrruruuuuluulullu\"\"\")"
   ]
  },
  {
   "cell_type": "code",
   "execution_count": 53,
   "metadata": {},
   "outputs": [
    {
     "name": "stdout",
     "output_type": "stream",
     "text": [
      "- \u001b[92m|\u001b[0m \u001b[92m|\u001b[0m \u001b[92m|\u001b[0m - \n",
      "\u001b[92m|\u001b[0m \u001b[94m%\u001b[0m \u001b[94m%\u001b[0m \u001b[94m%\u001b[0m \u001b[92m|\u001b[0m \n",
      "\u001b[92m|\u001b[0m \u001b[94m%\u001b[0m \u001b[92m|\u001b[0m \u001b[94m%\u001b[0m \u001b[92m|\u001b[0m \n",
      "\u001b[92m|\u001b[0m \u001b[94m%\u001b[0m \u001b[92m|\u001b[0m \u001b[94m%\u001b[0m \u001b[92m|\u001b[0m \n",
      "\u001b[92m|\u001b[0m \u001b[94m%\u001b[0m \u001b[92m|\u001b[0m \u001b[94m%\u001b[0m \u001b[92m|\u001b[0m \n",
      "\u001b[94m%\u001b[0m \u001b[94m%\u001b[0m \u001b[92m|\u001b[0m \u001b[94m%\u001b[0m \u001b[92m|\u001b[0m \n",
      "\u001b[92m|\u001b[0m \u001b[92m|\u001b[0m \u001b[94m%\u001b[0m \u001b[94m%\u001b[0m \u001b[92m|\u001b[0m \n",
      "\u001b[92m|\u001b[0m \u001b[94m%\u001b[0m \u001b[94m%\u001b[0m \u001b[92m|\u001b[0m \u001b[94m%\u001b[0m \n",
      "\u001b[92m|\u001b[0m \u001b[94m%\u001b[0m \u001b[92m|\u001b[0m \u001b[94m%\u001b[0m \u001b[94m%\u001b[0m \n",
      "\u001b[92m|\u001b[0m \u001b[94m%\u001b[0m \u001b[94m%\u001b[0m \u001b[94m%\u001b[0m \u001b[92m|\u001b[0m \n",
      "- \u001b[92m|\u001b[0m \u001b[92m|\u001b[0m \u001b[92m|\u001b[0m - \n",
      "- - - - - \n",
      "\n",
      "(180, ['l', 'u'])\n"
     ]
    }
   ],
   "source": [
    "ss.slideshow(\"\"\"20 r\n",
    "28 ru\n",
    "36 ruu\n",
    "44 ruuu\n",
    "52 ruuuu\n",
    "60 ruuuur\n",
    "68 ruuuurr\n",
    "76 ruuuurrd\n",
    "84 ruuuurrdd\n",
    "92 ruuuurrddd\n",
    "100 ruuuurrdddd\n",
    "108 ruuuurrddddd\n",
    "116 ruuuurrdddddl\n",
    "124 ruuuurrdddddld\n",
    "132 ruuuurrdddddldl\n",
    "140 ruuuurrdddddldld\n",
    "148 ruuuurrdddddldldd\n",
    "156 ruuuurrdddddldlddr\n",
    "164 ruuuurrdddddldlddrr\n",
    "172 ruuuurrdddddldlddrru\n",
    "176 ruuuurrdddddldlddrrur\n",
    "180 ruuuurrdddddldlddrruru\"\"\")"
   ]
  },
  {
   "cell_type": "code",
   "execution_count": 54,
   "metadata": {},
   "outputs": [
    {
     "name": "stdout",
     "output_type": "stream",
     "text": [
      "20 r\n",
      "28 ru\n",
      "36 ruu\n",
      "44 ruuu\n",
      "52 ruuuu\n",
      "60 ruuuur\n",
      "68 ruuuurr\n",
      "76 ruuuurrr\n",
      "84 ruuuurrrr\n",
      "88 ruuuurrrru\n",
      "92 ruuuurrrrur\n",
      "92 ruuuurrrrurr\n",
      "92 ruuuurrrrurrr\n",
      "92 ruuuurrrrurrrr\n",
      "92 ruuuurrrrurrrrr\n",
      "92 ruuuurrrrurrrrrr\n",
      "92 ruuuurrrrurrrrrrr\n",
      "96 ruuuurrrrurrrrrrrr\n",
      "100 ruuuurrrrurrrrrrrrr\n",
      "108 ruuuurrrrurrrrrrrrrd\n",
      "116 ruuuurrrrurrrrrrrrrdr\n",
      "124 ruuuurrrrurrrrrrrrrdrr\n",
      "132 ruuuurrrrurrrrrrrrrdrrr\n",
      "140 ruuuurrrrurrrrrrrrrdrrrr\n",
      "148 ruuuurrrrurrrrrrrrrdrrrrr\n",
      "156 ruuuurrrrurrrrrrrrrdrrrrrd\n",
      "164 ruuuurrrrurrrrrrrrrdrrrrrdd\n",
      "172 ruuuurrrrurrrrrrrrrdrrrrrddl\n",
      "180 ruuuurrrrurrrrrrrrrdrrrrrddll\n",
      "188 ruuuurrrrurrrrrrrrrdrrrrrddlll\n",
      "188 ruuuurrrrurrrrrrrrrdrrrrrddllll\n",
      "188 ruuuurrrrurrrrrrrrrdrrrrrddllllu\n"
     ]
    },
    {
     "data": {
      "text/plain": [
       "(188, 'ruuuurrrrurrrrrrrrrdrrrrrddllllu')"
      ]
     },
     "execution_count": 54,
     "metadata": {},
     "output_type": "execute_result"
    }
   ],
   "source": [
    "grid = just_road_fixture()\n",
    "mark_restricted_areas(grid)\n",
    "ss = StringScorer(grid, 5, 0)\n",
    "hill_climbing(ss)"
   ]
  },
  {
   "cell_type": "code",
   "execution_count": 55,
   "metadata": {},
   "outputs": [
    {
     "name": "stdout",
     "output_type": "stream",
     "text": [
      "- \u001b[92m|\u001b[0m \u001b[92m|\u001b[0m \u001b[92m|\u001b[0m \u001b[92m|\u001b[0m \u001b[92m|\u001b[0m \u001b[94m%\u001b[0m \u001b[94m%\u001b[0m \u001b[94m%\u001b[0m \u001b[94m%\u001b[0m \u001b[94m%\u001b[0m \u001b[94m%\u001b[0m \u001b[94m%\u001b[0m \u001b[94m%\u001b[0m \u001b[92m|\u001b[0m \u001b[92m|\u001b[0m \u001b[92m|\u001b[0m \u001b[92m|\u001b[0m \u001b[92m|\u001b[0m \u001b[92m|\u001b[0m - \n",
      "\u001b[92m|\u001b[0m \u001b[94m%\u001b[0m \u001b[94m%\u001b[0m \u001b[94m%\u001b[0m \u001b[94m%\u001b[0m \u001b[94m%\u001b[0m \u001b[94m%\u001b[0m \u001b[91mx\u001b[0m \u001b[91mx\u001b[0m \u001b[91mx\u001b[0m \u001b[91mx\u001b[0m \u001b[91mx\u001b[0m \u001b[91mx\u001b[0m \u001b[94m%\u001b[0m \u001b[94m%\u001b[0m \u001b[94m%\u001b[0m \u001b[94m%\u001b[0m \u001b[94m%\u001b[0m \u001b[94m%\u001b[0m \u001b[94m%\u001b[0m \u001b[92m|\u001b[0m \n",
      "\u001b[92m|\u001b[0m \u001b[94m%\u001b[0m \u001b[92m|\u001b[0m \u001b[92m|\u001b[0m \u001b[92m|\u001b[0m \u001b[92m|\u001b[0m \u001b[91mx\u001b[0m O O O O O O \u001b[91mx\u001b[0m \u001b[94m%\u001b[0m \u001b[92m|\u001b[0m \u001b[92m|\u001b[0m \u001b[92m|\u001b[0m \u001b[92m|\u001b[0m \u001b[94m%\u001b[0m \u001b[92m|\u001b[0m \n",
      "\u001b[92m|\u001b[0m \u001b[94m%\u001b[0m \u001b[92m|\u001b[0m - - \u001b[91mx\u001b[0m O O \u001b[91mx\u001b[0m \u001b[91mx\u001b[0m \u001b[91mx\u001b[0m \u001b[91mx\u001b[0m O O \u001b[94m%\u001b[0m \u001b[94m%\u001b[0m \u001b[94m%\u001b[0m \u001b[94m%\u001b[0m \u001b[94m%\u001b[0m \u001b[94m%\u001b[0m \u001b[92m|\u001b[0m \n",
      "\u001b[92m|\u001b[0m \u001b[94m%\u001b[0m \u001b[92m|\u001b[0m - - \u001b[91mx\u001b[0m O \u001b[91mx\u001b[0m - - - - \u001b[91mx\u001b[0m O O \u001b[91mx\u001b[0m \u001b[92m|\u001b[0m \u001b[92m|\u001b[0m \u001b[92m|\u001b[0m \u001b[92m|\u001b[0m - \n",
      "\u001b[94m%\u001b[0m \u001b[94m%\u001b[0m \u001b[92m|\u001b[0m - - \u001b[91mx\u001b[0m O \u001b[91mx\u001b[0m \u001b[91mx\u001b[0m \u001b[91mx\u001b[0m \u001b[91mx\u001b[0m - - \u001b[91mx\u001b[0m O O \u001b[91mx\u001b[0m - - - - \n",
      "\u001b[92m|\u001b[0m \u001b[92m|\u001b[0m - - - \u001b[91mx\u001b[0m O O O O O \u001b[91mx\u001b[0m \u001b[91mx\u001b[0m \u001b[91mx\u001b[0m \u001b[91mx\u001b[0m O \u001b[91mx\u001b[0m - - - - \n",
      "- - - - - - \u001b[91mx\u001b[0m \u001b[91mx\u001b[0m \u001b[91mx\u001b[0m \u001b[91mx\u001b[0m O O O O \u001b[91mx\u001b[0m O O \u001b[91mx\u001b[0m - - - \n",
      "- - - - - - - - - - \u001b[91mx\u001b[0m \u001b[91mx\u001b[0m \u001b[91mx\u001b[0m O \u001b[91mx\u001b[0m \u001b[91mx\u001b[0m O \u001b[91mx\u001b[0m - - - \n",
      "- - - - - - - - - - - - \u001b[91mx\u001b[0m O O O O \u001b[91mx\u001b[0m - - - \n",
      "- - - - - - - - - - - - - \u001b[91mx\u001b[0m \u001b[91mx\u001b[0m \u001b[91mx\u001b[0m \u001b[91mx\u001b[0m - - - - \n",
      "- - - - - - - - - - - - - - - - - - - - - \n",
      "\n",
      "(180, ['r'])\n"
     ]
    }
   ],
   "source": [
    "ss.slideshow(\"\"\"20 r\n",
    "28 ru\n",
    "36 ruu\n",
    "44 ruuu\n",
    "52 ruuuu\n",
    "60 ruuuur\n",
    "68 ruuuurr\n",
    "76 ruuuurrr\n",
    "84 ruuuurrrr\n",
    "92 ruuuurrrrr\n",
    "96 ruuuurrrrru\n",
    "100 ruuuurrrrrur\n",
    "104 ruuuurrrrrurr\n",
    "108 ruuuurrrrrurrr\n",
    "112 ruuuurrrrrurrrr\n",
    "116 ruuuurrrrrurrrrr\n",
    "120 ruuuurrrrrurrrrrr\n",
    "124 ruuuurrrrrurrrrrrr\n",
    "132 ruuuurrrrrurrrrrrrd\n",
    "140 ruuuurrrrrurrrrrrrdr\n",
    "148 ruuuurrrrrurrrrrrrdrr\n",
    "156 ruuuurrrrrurrrrrrrdrrr\n",
    "164 ruuuurrrrrurrrrrrrdrrrr\n",
    "172 ruuuurrrrrurrrrrrrdrrrrr\n",
    "180 ruuuurrrrrurrrrrrrdrrrrrr\n",
    "188 ruuuurrrrrurrrrrrrdrrrrrrd\n",
    "196 ruuuurrrrrurrrrrrrdrrrrrrdd\n",
    "204 ruuuurrrrrurrrrrrrdrrrrrrddl\n",
    "212 ruuuurrrrrurrrrrrrdrrrrrrddll\n",
    "220 ruuuurrrrrurrrrrrrdrrrrrrddlll\n",
    "228 ruuuurrrrrurrrrrrrdrrrrrrddllll\n",
    "228 ruuuurrrrrurrrrrrrdrrrrrrddlllll\n",
    "228 ruuuurrrrrurrrrrrrdrrrrrrddlllllu\"\"\")"
   ]
  },
  {
   "cell_type": "code",
   "execution_count": 61,
   "metadata": {},
   "outputs": [],
   "source": [
    "from random import randint, random"
   ]
  },
  {
   "cell_type": "code",
   "execution_count": 46,
   "metadata": {},
   "outputs": [
    {
     "data": {
      "text/plain": [
       "[1, 2, 3, 4, 5]"
      ]
     },
     "execution_count": 46,
     "metadata": {},
     "output_type": "execute_result"
    }
   ],
   "source": [
    "options = [1,2,3,4,5]\n",
    "\n",
    "options"
   ]
  },
  {
   "cell_type": "code",
   "execution_count": 51,
   "metadata": {},
   "outputs": [
    {
     "data": {
      "text/plain": [
       "[]"
      ]
     },
     "execution_count": 51,
     "metadata": {},
     "output_type": "execute_result"
    }
   ],
   "source": [
    "options.pop(randint(0,len(options)-1))\n",
    "options"
   ]
  },
  {
   "cell_type": "code",
   "execution_count": 53,
   "metadata": {},
   "outputs": [],
   "source": [
    "import math"
   ]
  },
  {
   "cell_type": "code",
   "execution_count": 59,
   "metadata": {},
   "outputs": [
    {
     "data": {
      "text/plain": [
       "0.36787944117144233"
      ]
     },
     "execution_count": 59,
     "metadata": {},
     "output_type": "execute_result"
    }
   ],
   "source": [
    "math.e**(-1000/1000)"
   ]
  },
  {
   "cell_type": "code",
   "execution_count": 71,
   "metadata": {},
   "outputs": [
    {
     "data": {
      "text/plain": [
       "True"
      ]
     },
     "execution_count": 71,
     "metadata": {},
     "output_type": "execute_result"
    }
   ],
   "source": [
    "random() <= .36"
   ]
  },
  {
   "cell_type": "code",
   "execution_count": 121,
   "metadata": {},
   "outputs": [],
   "source": []
  },
  {
   "cell_type": "code",
   "execution_count": 122,
   "metadata": {},
   "outputs": [
    {
     "data": {
      "text/plain": [
       "(156, 'urdrdlrdlrdlrdlrdlrdlrrururdrdlrrururdrdlrrurdrrrrrururdrdll')"
      ]
     },
     "execution_count": 122,
     "metadata": {},
     "output_type": "execute_result"
    }
   ],
   "source": [
    "grid = just_road_fixture()\n",
    "mark_restricted_areas(grid)\n",
    "ss = StringScorer(grid, 5, 0)\n",
    "simulated_annealing(ss)"
   ]
  },
  {
   "cell_type": "code",
   "execution_count": 123,
   "metadata": {},
   "outputs": [
    {
     "name": "stdout",
     "output_type": "stream",
     "text": [
      "- - - - - - - - - - - - - - - - - - - - - \n",
      "- - - - - - - \u001b[91mx\u001b[0m \u001b[91mx\u001b[0m \u001b[91mx\u001b[0m \u001b[91mx\u001b[0m \u001b[91mx\u001b[0m \u001b[91mx\u001b[0m - - - - - - - - \n",
      "- - - - - - \u001b[91mx\u001b[0m O O O O O O \u001b[91mx\u001b[0m - - - - - - - \n",
      "\u001b[92m|\u001b[0m \u001b[92m|\u001b[0m - - - \u001b[91mx\u001b[0m O O \u001b[91mx\u001b[0m \u001b[91mx\u001b[0m \u001b[91mx\u001b[0m \u001b[91mx\u001b[0m O O \u001b[91mx\u001b[0m - - - - - - \n",
      "\u001b[94m%\u001b[0m \u001b[94m%\u001b[0m \u001b[92m|\u001b[0m - - \u001b[91mx\u001b[0m O \u001b[91mx\u001b[0m - - - - \u001b[91mx\u001b[0m O O \u001b[91mx\u001b[0m - - - - - \n",
      "\u001b[94m%\u001b[0m \u001b[94m%\u001b[0m \u001b[94m%\u001b[0m \u001b[92m|\u001b[0m - \u001b[91mx\u001b[0m O \u001b[91mx\u001b[0m \u001b[91mx\u001b[0m \u001b[91mx\u001b[0m \u001b[91mx\u001b[0m - - \u001b[91mx\u001b[0m O O \u001b[91mx\u001b[0m - - - - \n",
      "\u001b[92m|\u001b[0m \u001b[94m%\u001b[0m \u001b[94m%\u001b[0m \u001b[92m|\u001b[0m - \u001b[91mx\u001b[0m O O O O O \u001b[91mx\u001b[0m \u001b[91mx\u001b[0m \u001b[91mx\u001b[0m \u001b[91mx\u001b[0m O \u001b[91mx\u001b[0m - - - - \n",
      "\u001b[92m|\u001b[0m \u001b[94m%\u001b[0m \u001b[94m%\u001b[0m \u001b[92m|\u001b[0m - - \u001b[91mx\u001b[0m \u001b[91mx\u001b[0m \u001b[91mx\u001b[0m \u001b[91mx\u001b[0m O O O O \u001b[91mx\u001b[0m O O \u001b[91mx\u001b[0m - - - \n",
      "\u001b[92m|\u001b[0m \u001b[94m%\u001b[0m \u001b[94m%\u001b[0m \u001b[92m|\u001b[0m \u001b[92m|\u001b[0m \u001b[92m|\u001b[0m - - \u001b[92m|\u001b[0m \u001b[92m|\u001b[0m \u001b[91mx\u001b[0m \u001b[91mx\u001b[0m \u001b[91mx\u001b[0m O \u001b[91mx\u001b[0m \u001b[91mx\u001b[0m O \u001b[91mx\u001b[0m \u001b[92m|\u001b[0m \u001b[92m|\u001b[0m - \n",
      "\u001b[92m|\u001b[0m \u001b[94m%\u001b[0m \u001b[94m%\u001b[0m \u001b[92m|\u001b[0m \u001b[94m%\u001b[0m \u001b[94m%\u001b[0m \u001b[92m|\u001b[0m \u001b[92m|\u001b[0m \u001b[94m%\u001b[0m \u001b[94m%\u001b[0m \u001b[92m|\u001b[0m \u001b[92m|\u001b[0m \u001b[91mx\u001b[0m O O O O \u001b[91mx\u001b[0m \u001b[94m%\u001b[0m \u001b[94m%\u001b[0m \u001b[92m|\u001b[0m \n",
      "\u001b[92m|\u001b[0m \u001b[94m%\u001b[0m \u001b[94m%\u001b[0m \u001b[94m%\u001b[0m \u001b[94m%\u001b[0m \u001b[94m%\u001b[0m \u001b[94m%\u001b[0m \u001b[94m%\u001b[0m \u001b[94m%\u001b[0m \u001b[94m%\u001b[0m \u001b[94m%\u001b[0m \u001b[94m%\u001b[0m \u001b[94m%\u001b[0m \u001b[91mx\u001b[0m \u001b[91mx\u001b[0m \u001b[91mx\u001b[0m \u001b[91mx\u001b[0m \u001b[94m%\u001b[0m \u001b[94m%\u001b[0m \u001b[94m%\u001b[0m \u001b[94m%\u001b[0m \n",
      "\u001b[92m|\u001b[0m \u001b[94m%\u001b[0m \u001b[94m%\u001b[0m \u001b[94m%\u001b[0m \u001b[92m|\u001b[0m \u001b[94m%\u001b[0m \u001b[94m%\u001b[0m \u001b[94m%\u001b[0m \u001b[92m|\u001b[0m \u001b[94m%\u001b[0m \u001b[94m%\u001b[0m \u001b[94m%\u001b[0m \u001b[94m%\u001b[0m \u001b[94m%\u001b[0m \u001b[94m%\u001b[0m \u001b[94m%\u001b[0m \u001b[94m%\u001b[0m \u001b[94m%\u001b[0m \u001b[94m%\u001b[0m \u001b[94m%\u001b[0m \u001b[94m%\u001b[0m \n",
      "\n"
     ]
    },
    {
     "data": {
      "text/plain": [
       "(156, [])"
      ]
     },
     "execution_count": 123,
     "metadata": {},
     "output_type": "execute_result"
    }
   ],
   "source": [
    "ss.show('urdrdlrdlrdlrdlrdlrdlrrururdrdlrrururdrdlrrurdrrrrrururdrdll')"
   ]
  },
  {
   "cell_type": "code",
   "execution_count": 124,
   "metadata": {},
   "outputs": [],
   "source": [
    "grid = just_road_fixture()\n",
    "mark_restricted_areas(grid)\n",
    "ss = StringScorer(grid, 5, 0)"
   ]
  },
  {
   "cell_type": "code",
   "execution_count": 128,
   "metadata": {},
   "outputs": [
    {
     "name": "stdout",
     "output_type": "stream",
     "text": [
      "- - - - - - - - - - - - - - - - - - - - - \n",
      "- - - - - - - \u001b[91mx\u001b[0m \u001b[91mx\u001b[0m \u001b[91mx\u001b[0m \u001b[91mx\u001b[0m \u001b[91mx\u001b[0m \u001b[91mx\u001b[0m - - - - - - - - \n",
      "- - - - - - \u001b[91mx\u001b[0m O O O O O O \u001b[91mx\u001b[0m - - - - - - - \n",
      "- - - - - \u001b[91mx\u001b[0m O O \u001b[91mx\u001b[0m \u001b[91mx\u001b[0m \u001b[91mx\u001b[0m \u001b[91mx\u001b[0m O O \u001b[91mx\u001b[0m - - - - - - \n",
      "- - - - - \u001b[91mx\u001b[0m O \u001b[91mx\u001b[0m - - - - \u001b[91mx\u001b[0m O O \u001b[91mx\u001b[0m - - - - - \n",
      "- - - - - \u001b[91mx\u001b[0m O \u001b[91mx\u001b[0m \u001b[91mx\u001b[0m \u001b[91mx\u001b[0m \u001b[91mx\u001b[0m - - \u001b[91mx\u001b[0m O O \u001b[91mx\u001b[0m - - - - \n",
      "- - - - - \u001b[91mx\u001b[0m O O O O O \u001b[91mx\u001b[0m \u001b[91mx\u001b[0m \u001b[91mx\u001b[0m \u001b[91mx\u001b[0m O \u001b[91mx\u001b[0m - - - - \n",
      "- - - - - - \u001b[91mx\u001b[0m \u001b[91mx\u001b[0m \u001b[91mx\u001b[0m \u001b[91mx\u001b[0m O O O O \u001b[91mx\u001b[0m O O \u001b[91mx\u001b[0m - - - \n",
      "- - - - - - - - - - \u001b[91mx\u001b[0m \u001b[91mx\u001b[0m \u001b[91mx\u001b[0m O \u001b[91mx\u001b[0m \u001b[91mx\u001b[0m O \u001b[91mx\u001b[0m - - - \n",
      "- - - - - - - - - - - - \u001b[91mx\u001b[0m O O O O \u001b[91mx\u001b[0m - - - \n",
      "- - - - - - - - - - - - - \u001b[91mx\u001b[0m \u001b[91mx\u001b[0m \u001b[91mx\u001b[0m \u001b[91mx\u001b[0m - - - - \n",
      "- - - - - - - - - - - - - - - - - - - - - \n",
      "\n"
     ]
    }
   ],
   "source": [
    "repc(grid)"
   ]
  },
  {
   "cell_type": "code",
   "execution_count": 137,
   "metadata": {},
   "outputs": [],
   "source": []
  },
  {
   "cell_type": "code",
   "execution_count": 138,
   "metadata": {},
   "outputs": [
    {
     "data": {
      "text/plain": [
       "0"
      ]
     },
     "execution_count": 138,
     "metadata": {},
     "output_type": "execute_result"
    }
   ],
   "source": []
  },
  {
   "cell_type": "code",
   "execution_count": null,
   "metadata": {},
   "outputs": [],
   "source": []
  }
 ],
 "metadata": {
  "kernelspec": {
   "display_name": "Python 3",
   "language": "python",
   "name": "python3"
  },
  "language_info": {
   "codemirror_mode": {
    "name": "ipython",
    "version": 3
   },
   "file_extension": ".py",
   "mimetype": "text/x-python",
   "name": "python",
   "nbconvert_exporter": "python",
   "pygments_lexer": "ipython3",
   "version": "3.7.4"
  }
 },
 "nbformat": 4,
 "nbformat_minor": 2
}
